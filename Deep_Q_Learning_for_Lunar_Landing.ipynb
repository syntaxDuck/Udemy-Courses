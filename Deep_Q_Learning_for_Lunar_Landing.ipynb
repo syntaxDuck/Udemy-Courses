{
  "cells": [
    {
      "cell_type": "markdown",
      "metadata": {
        "id": "view-in-github",
        "colab_type": "text"
      },
      "source": [
        "<a href=\"https://colab.research.google.com/github/syntaxDuck/Udemy-Courses/blob/main/Deep_Q_Learning_for_Lunar_Landing.ipynb\" target=\"_parent\"><img src=\"https://colab.research.google.com/assets/colab-badge.svg\" alt=\"Open In Colab\"/></a>"
      ]
    },
    {
      "cell_type": "markdown",
      "metadata": {
        "id": "LbZcI9ZXHl3a"
      },
      "source": [
        "# Deep Q-Learning for Lunar Landing"
      ]
    },
    {
      "cell_type": "markdown",
      "metadata": {
        "id": "E8yPRjteXgPb"
      },
      "source": [
        "## Part 0 - Installing the required packages and importing the libraries"
      ]
    },
    {
      "cell_type": "markdown",
      "metadata": {
        "id": "slEm5teGWjWU"
      },
      "source": [
        "### Installing Gymnasium"
      ]
    },
    {
      "cell_type": "code",
      "execution_count": 2,
      "metadata": {
        "id": "dbnq3XpoKa_7",
        "outputId": "0f1f9f86-6871-4f89-ba38-6734e7f62db3",
        "colab": {
          "base_uri": "https://localhost:8080/"
        }
      },
      "outputs": [
        {
          "output_type": "stream",
          "name": "stdout",
          "text": [
            "Collecting gymnasium\n",
            "  Downloading gymnasium-1.0.0-py3-none-any.whl.metadata (9.5 kB)\n",
            "Requirement already satisfied: numpy>=1.21.0 in /usr/local/lib/python3.10/dist-packages (from gymnasium) (1.26.4)\n",
            "Requirement already satisfied: cloudpickle>=1.2.0 in /usr/local/lib/python3.10/dist-packages (from gymnasium) (3.1.0)\n",
            "Requirement already satisfied: typing-extensions>=4.3.0 in /usr/local/lib/python3.10/dist-packages (from gymnasium) (4.12.2)\n",
            "Collecting farama-notifications>=0.0.1 (from gymnasium)\n",
            "  Downloading Farama_Notifications-0.0.4-py3-none-any.whl.metadata (558 bytes)\n",
            "Downloading gymnasium-1.0.0-py3-none-any.whl (958 kB)\n",
            "\u001b[2K   \u001b[90m━━━━━━━━━━━━━━━━━━━━━━━━━━━━━━━━━━━━━━━━\u001b[0m \u001b[32m958.1/958.1 kB\u001b[0m \u001b[31m16.1 MB/s\u001b[0m eta \u001b[36m0:00:00\u001b[0m\n",
            "\u001b[?25hDownloading Farama_Notifications-0.0.4-py3-none-any.whl (2.5 kB)\n",
            "Installing collected packages: farama-notifications, gymnasium\n",
            "Successfully installed farama-notifications-0.0.4 gymnasium-1.0.0\n",
            "Requirement already satisfied: gymnasium[accept-rom-license,atari] in /usr/local/lib/python3.10/dist-packages (1.0.0)\n",
            "\u001b[33mWARNING: gymnasium 1.0.0 does not provide the extra 'accept-rom-license'\u001b[0m\u001b[33m\n",
            "\u001b[0mRequirement already satisfied: numpy>=1.21.0 in /usr/local/lib/python3.10/dist-packages (from gymnasium[accept-rom-license,atari]) (1.26.4)\n",
            "Requirement already satisfied: cloudpickle>=1.2.0 in /usr/local/lib/python3.10/dist-packages (from gymnasium[accept-rom-license,atari]) (3.1.0)\n",
            "Requirement already satisfied: typing-extensions>=4.3.0 in /usr/local/lib/python3.10/dist-packages (from gymnasium[accept-rom-license,atari]) (4.12.2)\n",
            "Requirement already satisfied: farama-notifications>=0.0.1 in /usr/local/lib/python3.10/dist-packages (from gymnasium[accept-rom-license,atari]) (0.0.4)\n",
            "Collecting ale-py>=0.9 (from gymnasium[accept-rom-license,atari])\n",
            "  Downloading ale_py-0.10.1-cp310-cp310-manylinux_2_17_x86_64.manylinux2014_x86_64.whl.metadata (7.6 kB)\n",
            "Downloading ale_py-0.10.1-cp310-cp310-manylinux_2_17_x86_64.manylinux2014_x86_64.whl (2.1 MB)\n",
            "\u001b[2K   \u001b[90m━━━━━━━━━━━━━━━━━━━━━━━━━━━━━━━━━━━━━━━━\u001b[0m \u001b[32m2.1/2.1 MB\u001b[0m \u001b[31m23.5 MB/s\u001b[0m eta \u001b[36m0:00:00\u001b[0m\n",
            "\u001b[?25hInstalling collected packages: ale-py\n",
            "Successfully installed ale-py-0.10.1\n",
            "Reading package lists... Done\n",
            "Building dependency tree... Done\n",
            "Reading state information... Done\n",
            "The following additional packages will be installed:\n",
            "  swig4.0\n",
            "Suggested packages:\n",
            "  swig-doc swig-examples swig4.0-examples swig4.0-doc\n",
            "The following NEW packages will be installed:\n",
            "  swig swig4.0\n",
            "0 upgraded, 2 newly installed, 0 to remove and 49 not upgraded.\n",
            "Need to get 1,116 kB of archives.\n",
            "After this operation, 5,542 kB of additional disk space will be used.\n",
            "Get:1 http://archive.ubuntu.com/ubuntu jammy/universe amd64 swig4.0 amd64 4.0.2-1ubuntu1 [1,110 kB]\n",
            "Get:2 http://archive.ubuntu.com/ubuntu jammy/universe amd64 swig all 4.0.2-1ubuntu1 [5,632 B]\n",
            "Fetched 1,116 kB in 1s (1,403 kB/s)\n",
            "Selecting previously unselected package swig4.0.\n",
            "(Reading database ... 123632 files and directories currently installed.)\n",
            "Preparing to unpack .../swig4.0_4.0.2-1ubuntu1_amd64.deb ...\n",
            "Unpacking swig4.0 (4.0.2-1ubuntu1) ...\n",
            "Selecting previously unselected package swig.\n",
            "Preparing to unpack .../swig_4.0.2-1ubuntu1_all.deb ...\n",
            "Unpacking swig (4.0.2-1ubuntu1) ...\n",
            "Setting up swig4.0 (4.0.2-1ubuntu1) ...\n",
            "Setting up swig (4.0.2-1ubuntu1) ...\n",
            "Processing triggers for man-db (2.10.2-1) ...\n",
            "Requirement already satisfied: gymnasium[box2d] in /usr/local/lib/python3.10/dist-packages (1.0.0)\n",
            "Requirement already satisfied: numpy>=1.21.0 in /usr/local/lib/python3.10/dist-packages (from gymnasium[box2d]) (1.26.4)\n",
            "Requirement already satisfied: cloudpickle>=1.2.0 in /usr/local/lib/python3.10/dist-packages (from gymnasium[box2d]) (3.1.0)\n",
            "Requirement already satisfied: typing-extensions>=4.3.0 in /usr/local/lib/python3.10/dist-packages (from gymnasium[box2d]) (4.12.2)\n",
            "Requirement already satisfied: farama-notifications>=0.0.1 in /usr/local/lib/python3.10/dist-packages (from gymnasium[box2d]) (0.0.4)\n",
            "Collecting box2d-py==2.3.5 (from gymnasium[box2d])\n",
            "  Downloading box2d-py-2.3.5.tar.gz (374 kB)\n",
            "\u001b[2K     \u001b[90m━━━━━━━━━━━━━━━━━━━━━━━━━━━━━━━━━━━━━━━━\u001b[0m \u001b[32m374.4/374.4 kB\u001b[0m \u001b[31m7.9 MB/s\u001b[0m eta \u001b[36m0:00:00\u001b[0m\n",
            "\u001b[?25h  Preparing metadata (setup.py) ... \u001b[?25l\u001b[?25hdone\n",
            "Requirement already satisfied: pygame>=2.1.3 in /usr/local/lib/python3.10/dist-packages (from gymnasium[box2d]) (2.6.1)\n",
            "Collecting swig==4.* (from gymnasium[box2d])\n",
            "  Downloading swig-4.3.0-py2.py3-none-manylinux_2_5_x86_64.manylinux1_x86_64.whl.metadata (3.5 kB)\n",
            "Downloading swig-4.3.0-py2.py3-none-manylinux_2_5_x86_64.manylinux1_x86_64.whl (1.9 MB)\n",
            "\u001b[2K   \u001b[90m━━━━━━━━━━━━━━━━━━━━━━━━━━━━━━━━━━━━━━━━\u001b[0m \u001b[32m1.9/1.9 MB\u001b[0m \u001b[31m44.7 MB/s\u001b[0m eta \u001b[36m0:00:00\u001b[0m\n",
            "\u001b[?25hBuilding wheels for collected packages: box2d-py\n",
            "  Building wheel for box2d-py (setup.py) ... \u001b[?25l\u001b[?25hdone\n",
            "  Created wheel for box2d-py: filename=box2d_py-2.3.5-cp310-cp310-linux_x86_64.whl size=2349141 sha256=c1b799d54fb94cbb6163b5c0792b730fc4f39775901a97971b896fca50040380\n",
            "  Stored in directory: /root/.cache/pip/wheels/db/8f/6a/eaaadf056fba10a98d986f6dce954e6201ba3126926fc5ad9e\n",
            "Successfully built box2d-py\n",
            "Installing collected packages: swig, box2d-py\n",
            "Successfully installed box2d-py-2.3.5 swig-4.3.0\n"
          ]
        }
      ],
      "source": [
        "!pip install gymnasium\n",
        "!pip install \"gymnasium[atari, accept-rom-license]\"\n",
        "!apt-get install -y swig\n",
        "!pip install gymnasium[box2d]"
      ]
    },
    {
      "cell_type": "markdown",
      "metadata": {
        "id": "brqiMN3UW9T9"
      },
      "source": [
        "### Importing the libraries"
      ]
    },
    {
      "cell_type": "code",
      "execution_count": 3,
      "metadata": {
        "id": "mZaKXP_aMl9O"
      },
      "outputs": [],
      "source": [
        "import os\n",
        "import random\n",
        "import numpy as np\n",
        "import torch\n",
        "import torch.nn as nn\n",
        "import torch.optim as optim\n",
        "import torch.nn.functional as F\n",
        "import torch.autograd as autograd\n",
        "from torch.autograd import Variable\n",
        "from collections import deque, namedtuple"
      ]
    },
    {
      "cell_type": "markdown",
      "metadata": {
        "id": "EzlDKXvkXzGI"
      },
      "source": [
        "## Part 1 - Building the AI"
      ]
    },
    {
      "cell_type": "markdown",
      "metadata": {
        "id": "UtG6Zc83YYy3"
      },
      "source": [
        "### Creating the architecture of the Neural Network"
      ]
    },
    {
      "cell_type": "code",
      "source": [
        "class Network(nn.Module):\n",
        "  def __init__(self, state_size, action_size, seed = 42) -> None:\n",
        "    super(Network, self).__init__()\n",
        "    self.seed = torch.manual_seed(seed)\n",
        "    self.fc1 = nn.Linear(state_size, 64)\n",
        "    self.fc2 = nn.Linear(64, 64)\n",
        "    self.fc3 = nn.Linear(64, action_size)\n",
        "\n",
        "  def forward(self, state):\n",
        "    x = self.fc1(state)\n",
        "    x = F.relu(x)\n",
        "    x = self.fc2(x)\n",
        "    x = F.relu(x)\n",
        "    return self.fc3(x)"
      ],
      "metadata": {
        "id": "w_unxewnvQjl"
      },
      "execution_count": 4,
      "outputs": []
    },
    {
      "cell_type": "markdown",
      "metadata": {
        "id": "UxVrBnFWZKb1"
      },
      "source": [
        "## Part 2 - Training the AI"
      ]
    },
    {
      "cell_type": "markdown",
      "metadata": {
        "id": "T364fz9qZb2j"
      },
      "source": [
        "### Setting up the environment"
      ]
    },
    {
      "cell_type": "code",
      "source": [
        "import gymnasium as gym\n",
        "env = gym.make('LunarLander-v3') # The Lunar Lander environment was upgraded to v3\n",
        "state_shape = env.observation_space.shape\n",
        "state_size = env.observation_space.shape[0]\n",
        "number_actions = env.action_space.n\n",
        "print('State shape: ', state_shape)\n",
        "print('State size: ', state_size)\n",
        "print('Number of actions: ', number_actions)"
      ],
      "metadata": {
        "id": "41sgnpCwtd5f",
        "outputId": "69759a67-ee05-49db-d394-6911fdbfe0a8",
        "colab": {
          "base_uri": "https://localhost:8080/"
        }
      },
      "execution_count": 5,
      "outputs": [
        {
          "output_type": "stream",
          "name": "stdout",
          "text": [
            "State shape:  (8,)\n",
            "State size:  8\n",
            "Number of actions:  4\n"
          ]
        }
      ]
    },
    {
      "cell_type": "markdown",
      "metadata": {
        "id": "c_dZmOIvZgj-"
      },
      "source": [
        "### Initializing the hyperparameters"
      ]
    },
    {
      "cell_type": "code",
      "source": [
        "learning_rate = 5e-4\n",
        "minibatch_size = 100\n",
        "discount_factor = 0.99\n",
        "replay_buffer_size = int(1e5)\n",
        "interpolation_param = 1e-3"
      ],
      "metadata": {
        "id": "Rm3HIBb3ztCD"
      },
      "execution_count": 6,
      "outputs": []
    },
    {
      "cell_type": "markdown",
      "metadata": {
        "id": "8hD_Vs-bYnip"
      },
      "source": [
        "### Implementing Experience Replay"
      ]
    },
    {
      "cell_type": "code",
      "source": [
        "class ReplayMemory(object):\n",
        "  def __init__(self, capacity) -> None:\n",
        "     self.device = torch.device(\"cuda:0\" if torch.cuda.is_available() else \"cpu\")\n",
        "     self.capacity = capacity\n",
        "     self.memory = []\n",
        "\n",
        "  def push(self, event):\n",
        "    self.memory.append(event)\n",
        "    if len(self.memory) > self.capacity:\n",
        "      del self.memory[0]\n",
        "\n",
        "  def sample(self, batch_size):\n",
        "      experiences = random.sample(self.memory, k = batch_size)\n",
        "      states = torch.from_numpy(np.vstack([e[0] for e in experiences if e is not None])).float().to(self.device)\n",
        "      actions = torch.from_numpy(np.vstack([e[1] for e in experiences if e is not None])).long().to(self.device)\n",
        "      rewards = torch.from_numpy(np.vstack([e[2] for e in experiences if e is not None])).float().to(self.device)\n",
        "      next_states = torch.from_numpy(np.vstack([e[3] for e in experiences if e is not None])).float().to(self.device)\n",
        "      dones = torch.from_numpy(np.vstack([e[4] for e in experiences if e is not None])).type(torch.uint8).float().to(self.device)\n",
        "      return states, next_states, actions, rewards, dones"
      ],
      "metadata": {
        "id": "e2gYdxI50Xvl"
      },
      "execution_count": 20,
      "outputs": []
    },
    {
      "cell_type": "markdown",
      "metadata": {
        "id": "JmEkbFbUY6Jt"
      },
      "source": [
        "### Implementing the DQN class"
      ]
    },
    {
      "cell_type": "code",
      "source": [
        "class Agent(object):\n",
        "  def __init__(self, state_size, action_size) -> None:\n",
        "     self.device = torch.device(\"cuda:0\" if torch.cuda.is_available() else \"cpu\")\n",
        "     self.state_size = state_size\n",
        "     self.action_size = action_size\n",
        "     self.local_qnetwork = Network(state_size, action_size).to(self.device)\n",
        "     self.target_qnetwork = Network(state_size, action_size).to(self.device)\n",
        "     self.optimizer = optim.Adam(self.local_qnetwork.parameters(), lr = learning_rate)\n",
        "     self.memory = ReplayMemory(replay_buffer_size)\n",
        "     self.timestep = 0\n",
        "\n",
        "  def step(self, state, action, reward, next_state, done):\n",
        "    self.memory.push((state, action, reward, next_state, done))\n",
        "    self.timestep = (self.timestep + 1) % 4\n",
        "    if self.timestep == 0:\n",
        "      if len(self.memory.memory) > minibatch_size:\n",
        "        experiences = self.memory.sample(minibatch_size)\n",
        "        self.learn(experiences, discount_factor)\n",
        "\n",
        "  def act(self, state, epsilon = 0.0):\n",
        "    state = torch.from_numpy(state).float().unsqueeze(0).to(self.device)\n",
        "    self.local_qnetwork.eval()\n",
        "    with torch.no_grad():\n",
        "      action_values = self.local_qnetwork(state)\n",
        "    self.local_qnetwork.train()\n",
        "    if random.random() > epsilon:\n",
        "      return np.argmax(action_values.cpu().data.numpy())\n",
        "    else:\n",
        "      return random.choice(np.arange(self.action_size))\n",
        "\n",
        "  def learn(self, experiences, discount_factor):\n",
        "    states, next_states, actions, rewards, dones = experiences\n",
        "    next_q_targets = self.target_qnetwork(next_states).detach().max(1)[0].unsqueeze(1)\n",
        "    q_targets = rewards + (discount_factor * next_q_targets * (1 - dones))\n",
        "    q_expected = self.local_qnetwork(states).gather(1, actions)\n",
        "    loss = F.mse_loss(q_expected, q_targets)\n",
        "    self.optimizer.zero_grad()\n",
        "    loss.backward()\n",
        "    self.optimizer.step()\n",
        "    self.soft_update(self.local_qnetwork, self.target_qnetwork, interpolation_param)\n",
        "\n",
        "  def soft_update(self, local_model, target_model, interpolation_param):\n",
        "    for target_param, local_param in zip(target_model.parameters(), local_model.parameters()):\n",
        "      target_param.data.copy_(interpolation_param * local_param.data + (1.0 - interpolation_param) * target_param.data)\n",
        "\n"
      ],
      "metadata": {
        "id": "KksLkRSU3HQS"
      },
      "execution_count": 22,
      "outputs": []
    },
    {
      "cell_type": "markdown",
      "metadata": {
        "id": "o1tZElccZmf6"
      },
      "source": [
        "### Initializing the DQN agent"
      ]
    },
    {
      "cell_type": "code",
      "source": [
        "agent = Agent(state_size, number_actions)\n",
        "\n"
      ],
      "metadata": {
        "id": "PRYdXRpC-nAy"
      },
      "execution_count": 23,
      "outputs": []
    },
    {
      "cell_type": "markdown",
      "metadata": {
        "id": "E8v0PtUfaVQp"
      },
      "source": [
        "### Training the DQN agent"
      ]
    },
    {
      "cell_type": "code",
      "source": [
        "number_episodes = 2000\n",
        "maximum_number_timesteps_per_episode = 1000\n",
        "epsilon_starting_value = 1.0\n",
        "epsilon_final_value = 0.01\n",
        "epsilon_decay_rate = 0.995\n",
        "epsilon = epsilon_starting_value\n",
        "scores_on_100_episodes = deque(maxlen = 100)\n",
        "\n",
        "for epsiode in range(1, number_episodes + 1):\n",
        "  state, _ = env.reset()\n",
        "  score = 0\n",
        "  for timestep in range(maximum_number_timesteps_per_episode):\n",
        "    action = agent.act(state, epsilon)\n",
        "    next_state, reward, done, _, _ = env.step(action)\n",
        "    agent.step(state, action, reward, next_state, done)\n",
        "    state = next_state\n",
        "    score += reward\n",
        "    if done:\n",
        "      break\n",
        "  scores_on_100_episodes.append(score)\n",
        "  epsilon = max(epsilon_final_value, epsilon_decay_rate * epsilon)\n",
        "  print(f'\\rEpisode: {epsiode}\\tAverage Score: {np.mean(scores_on_100_episodes):.2f}\\tEpsilon: {epsilon:.3f}', end = \"\")\n",
        "  if epsiode % 100 == 0:\n",
        "    print(f'\\rEpisode: {epsiode}\\tAverage Score: {np.mean(scores_on_100_episodes):.2f}')\n",
        "\n",
        "  if np.mean(scores_on_100_episodes) >= 200.0:\n",
        "    print(f'\\nEnvironment solved in {epsiode-100} episodes!\\tAverage Score: {np.mean(scores_on_100_episodes):.2f}')\n",
        "    torch.save(agent.local_qnetwork.state_dict(), 'checkpoint.pth')\n",
        "    break"
      ],
      "metadata": {
        "id": "9eEAxo5xDLo6",
        "outputId": "7c6995af-34d5-48ac-ea45-afbefe1dc165",
        "colab": {
          "base_uri": "https://localhost:8080/"
        }
      },
      "execution_count": 24,
      "outputs": [
        {
          "output_type": "stream",
          "name": "stdout",
          "text": [
            "Episode: 100\tAverage Score: -172.73\n",
            "Episode: 200\tAverage Score: -116.06\n",
            "Episode: 300\tAverage Score: -35.63\n",
            "Episode: 400\tAverage Score: 69.59\n",
            "Episode: 500\tAverage Score: 156.72\n",
            "Episode: 586\tAverage Score: 201.29\tEpsilon: 0.053\n",
            "Environment solved in 486 episodes!\tAverage Score: 201.29\n"
          ]
        }
      ]
    },
    {
      "cell_type": "markdown",
      "metadata": {
        "id": "O8CNwdOTcCoP"
      },
      "source": [
        "## Part 3 - Visualizing the results"
      ]
    },
    {
      "cell_type": "code",
      "execution_count": 28,
      "metadata": {
        "id": "cb9nVvU2Okhk",
        "outputId": "bd97dc9e-8299-452d-d79c-dc86cc49ee1d",
        "colab": {
          "base_uri": "https://localhost:8080/",
          "height": 459
        }
      },
      "outputs": [
        {
          "output_type": "stream",
          "name": "stderr",
          "text": [
            "WARNING:imageio_ffmpeg:IMAGEIO FFMPEG_WRITER WARNING: input image is not divisible by macro_block_size=16, resizing from (600, 400) to (608, 400) to ensure video compatibility with most codecs and players. To prevent resizing, make your input image divisible by the macro_block_size or set the macro_block_size to 1 (risking incompatibility).\n"
          ]
        },
        {
          "output_type": "display_data",
          "data": {
            "text/plain": [
              "<IPython.core.display.HTML object>"
            ],
            "text/html": [
              "<video alt=\"test\" autoplay\n",
              "                loop controls style=\"height: 400px;\">\n",
              "                <source src=\"data:video/mp4;base64,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\" type=\"video/mp4\" />\n",
              "             </video>"
            ]
          },
          "metadata": {}
        }
      ],
      "source": [
        "import glob\n",
        "import io\n",
        "import base64\n",
        "import imageio\n",
        "from IPython.display import HTML, display\n",
        "\n",
        "def show_video_of_model(agent, env_name):\n",
        "    env = gym.make(env_name, render_mode='rgb_array')\n",
        "    state, _ = env.reset()\n",
        "    done = False\n",
        "    frames = []\n",
        "    while not done:\n",
        "        frame = env.render()\n",
        "        frames.append(frame)\n",
        "        action = agent.act(state)\n",
        "        state, reward, done, _, _ = env.step(action.item())\n",
        "    env.close()\n",
        "    imageio.mimsave('video.mp4', frames, fps=30)\n",
        "\n",
        "show_video_of_model(agent, 'LunarLander-v3')\n",
        "\n",
        "def show_video():\n",
        "    mp4list = glob.glob('*.mp4')\n",
        "    if len(mp4list) > 0:\n",
        "        mp4 = mp4list[0]\n",
        "        video = io.open(mp4, 'r+b').read()\n",
        "        encoded = base64.b64encode(video)\n",
        "        display(HTML(data='''<video alt=\"test\" autoplay\n",
        "                loop controls style=\"height: 400px;\">\n",
        "                <source src=\"data:video/mp4;base64,{0}\" type=\"video/mp4\" />\n",
        "             </video>'''.format(encoded.decode('ascii'))))\n",
        "    else:\n",
        "        print(\"Could not find video\")\n",
        "\n",
        "show_video()"
      ]
    }
  ],
  "metadata": {
    "colab": {
      "provenance": [],
      "include_colab_link": true
    },
    "kernelspec": {
      "display_name": "Python 3",
      "name": "python3"
    },
    "language_info": {
      "name": "python"
    }
  },
  "nbformat": 4,
  "nbformat_minor": 0
}