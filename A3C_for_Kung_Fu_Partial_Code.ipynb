{
  "cells": [
    {
      "cell_type": "markdown",
      "metadata": {
        "id": "view-in-github",
        "colab_type": "text"
      },
      "source": [
        "<a href=\"https://colab.research.google.com/github/syntaxDuck/Udemy-Courses/blob/main/A3C_for_Kung_Fu_Partial_Code.ipynb\" target=\"_parent\"><img src=\"https://colab.research.google.com/assets/colab-badge.svg\" alt=\"Open In Colab\"/></a>"
      ]
    },
    {
      "cell_type": "markdown",
      "source": [
        "# A3C for Kung Fu"
      ],
      "metadata": {
        "id": "dIo6Zkp7U1Hq"
      }
    },
    {
      "cell_type": "markdown",
      "source": [
        "## Part 0 - Installing the required packages and importing the libraries"
      ],
      "metadata": {
        "id": "pz8ogVxGVB6b"
      }
    },
    {
      "cell_type": "markdown",
      "source": [
        "### Installing Gymnasium"
      ],
      "metadata": {
        "id": "CqN2IEX1VKzi"
      }
    },
    {
      "cell_type": "code",
      "execution_count": 1,
      "metadata": {
        "id": "dbnq3XpoKa_7",
        "colab": {
          "base_uri": "https://localhost:8080/"
        },
        "outputId": "c787bc5d-a706-4404-a160-c4c559088f57"
      },
      "outputs": [
        {
          "output_type": "stream",
          "name": "stdout",
          "text": [
            "Requirement already satisfied: gymnasium in /Users/kameroncomer/.local/share/virtualenvs/ai-NVHVtFN8/lib/python3.11/site-packages (1.0.0)\r\n",
            "Requirement already satisfied: numpy>=1.21.0 in /Users/kameroncomer/.local/share/virtualenvs/ai-NVHVtFN8/lib/python3.11/site-packages (from gymnasium) (2.2.2)\r\n",
            "Requirement already satisfied: cloudpickle>=1.2.0 in /Users/kameroncomer/.local/share/virtualenvs/ai-NVHVtFN8/lib/python3.11/site-packages (from gymnasium) (3.1.0)\r\n",
            "Requirement already satisfied: typing-extensions>=4.3.0 in /Users/kameroncomer/.local/share/virtualenvs/ai-NVHVtFN8/lib/python3.11/site-packages (from gymnasium) (4.12.2)\r\n",
            "Requirement already satisfied: farama-notifications>=0.0.1 in /Users/kameroncomer/.local/share/virtualenvs/ai-NVHVtFN8/lib/python3.11/site-packages (from gymnasium) (0.0.4)\n",
            "Requirement already satisfied: gymnasium[accept-rom-license,atari] in /Users/kameroncomer/.local/share/virtualenvs/ai-NVHVtFN8/lib/python3.11/site-packages (1.0.0)\n",
            "\u001b[33mWARNING: gymnasium 1.0.0 does not provide the extra 'accept-rom-license'\u001b[0m\u001b[33m\n",
            "\u001b[0mRequirement already satisfied: numpy>=1.21.0 in /Users/kameroncomer/.local/share/virtualenvs/ai-NVHVtFN8/lib/python3.11/site-packages (from gymnasium[accept-rom-license,atari]) (2.2.2)\n",
            "Requirement already satisfied: cloudpickle>=1.2.0 in /Users/kameroncomer/.local/share/virtualenvs/ai-NVHVtFN8/lib/python3.11/site-packages (from gymnasium[accept-rom-license,atari]) (3.1.0)\n",
            "Requirement already satisfied: typing-extensions>=4.3.0 in /Users/kameroncomer/.local/share/virtualenvs/ai-NVHVtFN8/lib/python3.11/site-packages (from gymnasium[accept-rom-license,atari]) (4.12.2)\n",
            "Requirement already satisfied: farama-notifications>=0.0.1 in /Users/kameroncomer/.local/share/virtualenvs/ai-NVHVtFN8/lib/python3.11/site-packages (from gymnasium[accept-rom-license,atari]) (0.0.4)\n",
            "Requirement already satisfied: ale-py>=0.9 in /Users/kameroncomer/.local/share/virtualenvs/ai-NVHVtFN8/lib/python3.11/site-packages (from gymnasium[accept-rom-license,atari]) (0.10.1)\n",
            "Requirement already satisfied: ale-py in /Users/kameroncomer/.local/share/virtualenvs/ai-NVHVtFN8/lib/python3.11/site-packages (0.10.1)\n",
            "Requirement already satisfied: numpy>1.20 in /Users/kameroncomer/.local/share/virtualenvs/ai-NVHVtFN8/lib/python3.11/site-packages (from ale-py) (2.2.2)\n",
            "zsh:1: command not found: apt-get\n",
            "zsh:1: no matches found: gymnasium[box2d]\n"
          ]
        }
      ],
      "source": [
        "!pip install gymnasium\n",
        "!pip install \"gymnasium[atari, accept-rom-license]\"\n",
        "!pip install ale-py\n",
        "!apt-get install -y swig\n",
        "!pip install gymnasium[box2d]"
      ]
    },
    {
      "cell_type": "markdown",
      "source": [
        "### Importing the libraries"
      ],
      "metadata": {
        "id": "BrsNHNQqVZLK"
      }
    },
    {
      "cell_type": "code",
      "execution_count": 2,
      "metadata": {
        "id": "Ho_25-9_9qnu"
      },
      "outputs": [],
      "source": [
        "import cv2\n",
        "import math\n",
        "import random\n",
        "import numpy as np\n",
        "import torch\n",
        "import torch.nn as nn\n",
        "import torch.optim as optim\n",
        "import torch.nn.functional as F\n",
        "import torch.multiprocessing as mp\n",
        "import torch.distributions as distributions\n",
        "from torch.distributions import Categorical\n",
        "import ale_py\n",
        "import gymnasium as gym\n",
        "from gymnasium.spaces import Box\n",
        "from gymnasium import ObservationWrapper"
      ]
    },
    {
      "cell_type": "markdown",
      "source": [
        "## Part 1 - Building the AI"
      ],
      "metadata": {
        "id": "VF6EFSGUVlk2"
      }
    },
    {
      "cell_type": "markdown",
      "source": [
        "### Creating the architecture of the Neural Network"
      ],
      "metadata": {
        "id": "qyNc8cxbZCYP"
      }
    },
    {
      "cell_type": "code",
      "source": [
        "class Network(nn.Module):\n",
        "  def __init__(self, action_size):\n",
        "    super(Network, self).__init__()\n",
        "    self.conv1 = torch.nn.Conv2d(in_channels=4, out_channels=32, kernel_size=(3,3), stride=2)\n",
        "    self.conv2 = torch.nn.Conv2d(in_channels=32, out_channels=32, kernel_size=(3,3), stride=2)\n",
        "    self.conv3 = torch.nn.Conv2d(in_channels=32, out_channels=32, kernel_size=(3,3), stride=2)\n",
        "    self.flatten = torch.nn.Flatten()\n",
        "    self.fc1 = torch.nn.Linear(in_features=512, out_features=128)\n",
        "    self.fc2a = torch.nn.Linear(in_features=128, out_features=action_size)\n",
        "    self.fc2s = torch.nn.Linear(in_features=128, out_features=1)\n",
        "\n",
        "  def forward(self, state):\n",
        "    x = self.conv1(state)\n",
        "    x = F.relu(x)\n",
        "    x = self.conv2(x)\n",
        "    x = F.relu(x)\n",
        "    x = self.conv3(x)\n",
        "    x = F.relu(x)\n",
        "    x = self.flatten(x)\n",
        "    x = self.fc1(x)\n",
        "    x = F.relu(x)\n",
        "    x_a = self.fc2a(x)\n",
        "    x_s = self.fc2s(x)[0]\n",
        "    return x_a, x_s\n"
      ],
      "metadata": {
        "id": "X2LnChIaXUn-"
      },
      "execution_count": 3,
      "outputs": []
    },
    {
      "cell_type": "markdown",
      "source": [
        "## Part 2 - Training the AI"
      ],
      "metadata": {
        "id": "eF5bETqbZbCG"
      }
    },
    {
      "cell_type": "markdown",
      "source": [
        "### Setting up the environment"
      ],
      "metadata": {
        "id": "3C2ydyKLZgaK"
      }
    },
    {
      "cell_type": "code",
      "source": [
        "class PreprocessAtari(ObservationWrapper):\n",
        "\n",
        "  def __init__(self, env, height = 42, width = 42, crop = lambda img: img, dim_order = 'pytorch', color = False, n_frames = 4):\n",
        "    super(PreprocessAtari, self).__init__(env)\n",
        "    self.img_size = (height, width)\n",
        "    self.crop = crop\n",
        "    self.dim_order = dim_order\n",
        "    self.color = color\n",
        "    self.frame_stack = n_frames\n",
        "    n_channels = 3 * n_frames if color else n_frames\n",
        "    obs_shape = {'tensorflow': (height, width, n_channels), 'pytorch': (n_channels, height, width)}[dim_order]\n",
        "    self.observation_space = Box(0.0, 1.0, obs_shape)\n",
        "    self.frames = np.zeros(obs_shape, dtype = np.float32)\n",
        "\n",
        "  def reset(self):\n",
        "    self.frames = np.zeros_like(self.frames)\n",
        "    obs, info = self.env.reset()\n",
        "    self.update_buffer(obs)\n",
        "    return self.frames, info\n",
        "\n",
        "  def observation(self, img):\n",
        "    img = self.crop(img)\n",
        "    img = cv2.resize(img, self.img_size)\n",
        "    if not self.color:\n",
        "      if len(img.shape) == 3 and img.shape[2] == 3:\n",
        "        img = cv2.cvtColor(img, cv2.COLOR_BGR2GRAY)\n",
        "    img = img.astype('float32') / 255.\n",
        "    if self.color:\n",
        "      self.frames = np.roll(self.frames, shift = -3, axis = 0)\n",
        "    else:\n",
        "      self.frames = np.roll(self.frames, shift = -1, axis = 0)\n",
        "    if self.color:\n",
        "      self.frames[-3:] = img\n",
        "    else:\n",
        "      self.frames[-1] = img\n",
        "    return self.frames\n",
        "\n",
        "  def update_buffer(self, obs):\n",
        "    self.frames = self.observation(obs)\n",
        "\n",
        "def make_env():\n",
        "  env = gym.make(\"KungFuMasterDeterministic-v0\", render_mode = 'rgb_array')\n",
        "  env = PreprocessAtari(env, height = 42, width = 42, crop = lambda img: img, dim_order = 'pytorch', color = False, n_frames = 4)\n",
        "  return env\n",
        "\n",
        "env = make_env()\n",
        "\n",
        "state_shape = env.observation_space.shape\n",
        "number_actions = env.action_space.n\n",
        "print(\"State shape:\", state_shape)\n",
        "print(\"Number actions:\", number_actions)\n",
        "print(\"Action names:\", env.env.env.env.get_action_meanings())"
      ],
      "metadata": {
        "colab": {
          "base_uri": "https://localhost:8080/"
        },
        "id": "gF756uIhRVcK",
        "outputId": "5777dcc7-5b22-45ac-a801-e69c83272596"
      },
      "execution_count": 4,
      "outputs": [
        {
          "output_type": "stream",
          "name": "stdout",
          "text": [
            "State shape: (4, 42, 42)\n",
            "Number actions: 14\n",
            "Action names: ['NOOP', 'UP', 'RIGHT', 'LEFT', 'DOWN', 'DOWNRIGHT', 'DOWNLEFT', 'RIGHTFIRE', 'LEFTFIRE', 'DOWNFIRE', 'UPRIGHTFIRE', 'UPLEFTFIRE', 'DOWNRIGHTFIRE', 'DOWNLEFTFIRE']\n"
          ]
        },
        {
          "output_type": "stream",
          "name": "stderr",
          "text": [
            "/Users/kameroncomer/.local/share/virtualenvs/ai-NVHVtFN8/lib/python3.11/site-packages/gymnasium/envs/registration.py:517: DeprecationWarning: \u001b[33mWARN: The environment KungFuMasterDeterministic-v0 is out of date. You should consider upgrading to version `v4`.\u001b[0m\n",
            "  logger.deprecation(\n",
            "A.L.E: Arcade Learning Environment (version 0.10.1+6a7e0ae)\n",
            "[Powered by Stella]\n"
          ]
        }
      ]
    },
    {
      "cell_type": "markdown",
      "source": [
        "### Initializing the hyperparameters"
      ],
      "metadata": {
        "id": "YgRlooBmC1hr"
      }
    },
    {
      "cell_type": "code",
      "source": [
        "learning_rate = 1e-4\n",
        "discount_factor = 0.99\n",
        "number_environments = 10"
      ],
      "metadata": {
        "id": "cUEaSJxxjTp-"
      },
      "execution_count": 5,
      "outputs": []
    },
    {
      "cell_type": "markdown",
      "source": [
        "### Implementing the A3C class"
      ],
      "metadata": {
        "id": "Gg_LmSs9IoTX"
      }
    },
    {
      "cell_type": "code",
      "source": [
        "class Agent():\n",
        "  def __init__(self, action_size):\n",
        "    self.device = torch.device(\"mps\" if torch.cuda.is_available() else \"cpu\")\n",
        "    self.action_size = action_size\n",
        "    self.network = Network(action_size).to(self.device)\n",
        "    self.optimizer = optim.Adam(self.network.parameters(), lr = learning_rate)\n",
        "\n",
        "  def act(self, state):\n",
        "    if state.ndim == 3:\n",
        "      state = [state]\n",
        "\n",
        "    state = torch.tensor(np.array(state), dtype = torch.float32).to(self.device)\n",
        "    action_values, _ = self.network(state)\n",
        "    policy = F.softmax(action_values, dim = -1)\n",
        "    return np.array([np.random.choice(len(p), p = p) for p in policy.detach().cpu().numpy()])\n",
        "\n",
        "  def step(self, state, action, reward, next_state, done):\n",
        "    batch_size = state.shape[0]\n",
        "    state = torch.tensor(state, dtype = torch.float32, device = self.device)\n",
        "    next_state = torch.tensor(next_state, dtype = torch.float32, device = self.device)\n",
        "    reward = torch.tensor(reward, dtype = torch.float32, device = self.device)\n",
        "    done = torch.tensor(done, dtype = torch.bool, device = self.device).to(dtype=torch.float32)\n",
        "    action_value, state_value = self.network(state)\n",
        "    _, next_state_value = self.network(next_state)\n",
        "    target_state_value = reward + discount_factor * next_state_value * (1 - done)\n",
        "    advantage = target_state_value - state_value\n",
        "    probs = F.softmax(action_value, dim = -1)\n",
        "    logprobs = F.log_softmax(action_value, dim = -1)\n",
        "    entropy = -torch.sum(probs * logprobs, axis = -1)\n",
        "    batch_idx = np.arange(batch_size)\n",
        "    logp_actions = logprobs[batch_idx, action]\n",
        "    actor_loss = -(logp_actions * advantage.detach()).mean() - 0.001 * entropy.mean()\n",
        "    critic_loss = F.mse_loss(target_state_value.detach(), state_value)\n",
        "    total_loss = actor_loss + critic_loss\n",
        "    self.optimizer.zero_grad()\n",
        "    total_loss.backward()\n",
        "    self.optimizer.step()"
      ],
      "metadata": {
        "id": "ir-QrZ9kjxYV"
      },
      "execution_count": 7,
      "outputs": []
    },
    {
      "cell_type": "markdown",
      "source": [
        "### Initializing the A3C agent"
      ],
      "metadata": {
        "id": "7RnRukHDKFJ0"
      }
    },
    {
      "cell_type": "code",
      "source": [
        "agent = Agent(number_actions)"
      ],
      "metadata": {
        "id": "sUUftatFq6J9"
      },
      "execution_count": 9,
      "outputs": []
    },
    {
      "cell_type": "markdown",
      "source": [
        "### Evaluating our A3C agent on a single episode"
      ],
      "metadata": {
        "id": "oB5SpmoKP0aK"
      }
    },
    {
      "cell_type": "code",
      "source": [
        "def evaluate(agent, env, n_episodes = 1):\n",
        "  episodes_rewards = []\n",
        "  for _ in range(n_episodes):\n",
        "    state, _ = env.reset()\n",
        "    total_reward = 0\n",
        "    while True:\n",
        "      action = agent.act(state)\n",
        "      state, reward, done, info, _ = env.step(action[0])\n",
        "      total_reward += reward\n",
        "      if done:\n",
        "        break\n",
        "    episodes_rewards.append(total_reward)\n",
        "  return episodes_rewards"
      ],
      "metadata": {
        "id": "JAkf_ElIrNO-"
      },
      "execution_count": 21,
      "outputs": []
    },
    {
      "cell_type": "markdown",
      "source": [
        "### Testing multiple agents on multiple environments at the same time"
      ],
      "metadata": {
        "id": "jVSqiyjiQeMd"
      }
    },
    {
      "cell_type": "code",
      "source": [
        "class EnvBatch():\n",
        "  def __init__(self, n_envs=10):\n",
        "    self.envs = [make_env() for _ in range(n_envs)]\n",
        "\n",
        "  def reset(self):\n",
        "    _states = []\n",
        "    for env in self.envs:\n",
        "      _states.append(env.reset()[0])\n",
        "    return np.array(_states)\n",
        "\n",
        "  def step(self, actions):\n",
        "    next_states, rewards, dones, infos, _ = map(np.array, zip(*[env.step(a) for env, a in zip(self.envs, actions)]))\n",
        "    for i in range(len(self.envs)):\n",
        "      if dones[i]:\n",
        "        next_states[i] = self.envs[i].reset()[0]\n",
        "    return next_states, rewards, dones, infos\n"
      ],
      "metadata": {
        "id": "T9ZvtFp4tHLT"
      },
      "execution_count": 12,
      "outputs": []
    },
    {
      "cell_type": "markdown",
      "source": [
        "### Training the A3C agent"
      ],
      "metadata": {
        "id": "69WZWB4oRx1P"
      }
    },
    {
      "cell_type": "code",
      "source": [
        "!pip install tqdm\n",
        "import tqdm\n",
        "\n",
        "env_batch = EnvBatch(number_environments)\n",
        "batch_states = env_batch.reset()\n",
        "\n",
        "with tqdm.trange(0,300001) as progress_bar:\n",
        "  for i in progress_bar:\n",
        "    batch_actions = agent.act(batch_states)\n",
        "    batch_next_states, batch_rewards, batch_dones, _ = env_batch.step(batch_actions)\n",
        "    batch_rewards *= 0.01\n",
        "    agent.step(batch_states, batch_actions, batch_rewards, batch_next_states, batch_dones)\n",
        "    batch_states = batch_next_states\n",
        "    if i % 1000 == 0:\n",
        "      print(\"Average agent reward: \", np.mean(evaluate(agent, env, n_episodes=10)))\n",
        "\n"
      ],
      "metadata": {
        "id": "-QPUrumHwR9T",
        "outputId": "c5e564e3-b6d8-4f68-fe8e-2e7416f74f78",
        "colab": {
          "base_uri": "https://localhost:8080/"
        }
      },
      "execution_count": 24,
      "outputs": [
        {
          "output_type": "stream",
          "name": "stdout",
          "text": [
            "Requirement already satisfied: tqdm in /Users/kameroncomer/.local/share/virtualenvs/ai-NVHVtFN8/lib/python3.11/site-packages (4.67.1)\r\n"
          ]
        },
        {
          "output_type": "stream",
          "name": "stderr",
          "text": [
            "/Users/kameroncomer/.local/share/virtualenvs/ai-NVHVtFN8/lib/python3.11/site-packages/gymnasium/envs/registration.py:517: DeprecationWarning: \u001b[33mWARN: The environment KungFuMasterDeterministic-v0 is out of date. You should consider upgrading to version `v4`.\u001b[0m\n",
            "  logger.deprecation(\n",
            "  0%|                                                              | 0/300001 [00:00<?, ?it/s]/var/folders/_j/ngxpws_n3jzbyzw6ljlgwf0m0000gn/T/ipykernel_26924/3214659413.py:33: UserWarning: Using a target size (torch.Size([1])) that is different to the input size (torch.Size([10])). This will likely lead to incorrect results due to broadcasting. Please ensure they have the same size.\n",
            "  critic_loss = F.mse_loss(target_state_value.detach(), state_value)\n",
            "  0%|                                                  | 14/300001 [00:06<29:33:39,  2.82it/s]"
          ]
        },
        {
          "output_type": "stream",
          "name": "stdout",
          "text": [
            "Average agent reward:  740.0\n"
          ]
        },
        {
          "output_type": "stream",
          "name": "stderr",
          "text": [
            "  0%|▏                                                | 1024/300001 [00:20<8:09:09, 10.19it/s]"
          ]
        },
        {
          "output_type": "stream",
          "name": "stdout",
          "text": [
            "Average agent reward:  440.0\n"
          ]
        },
        {
          "output_type": "stream",
          "name": "stderr",
          "text": [
            "  1%|▎                                                | 2014/300001 [00:35<9:33:35,  8.66it/s]"
          ]
        },
        {
          "output_type": "stream",
          "name": "stdout",
          "text": [
            "Average agent reward:  420.0\n"
          ]
        },
        {
          "output_type": "stream",
          "name": "stderr",
          "text": [
            "  1%|▍                                                | 3013/300001 [00:49<7:55:33, 10.41it/s]"
          ]
        },
        {
          "output_type": "stream",
          "name": "stdout",
          "text": [
            "Average agent reward:  270.0\n"
          ]
        },
        {
          "output_type": "stream",
          "name": "stderr",
          "text": [
            "  1%|▋                                                | 4022/300001 [01:03<8:32:00,  9.63it/s]"
          ]
        },
        {
          "output_type": "stream",
          "name": "stdout",
          "text": [
            "Average agent reward:  830.0\n"
          ]
        },
        {
          "output_type": "stream",
          "name": "stderr",
          "text": [
            "  2%|▊                                                | 5017/300001 [01:16<7:14:54, 11.30it/s]"
          ]
        },
        {
          "output_type": "stream",
          "name": "stdout",
          "text": [
            "Average agent reward:  180.0\n"
          ]
        },
        {
          "output_type": "stream",
          "name": "stderr",
          "text": [
            "  2%|▉                                                | 6017/300001 [01:28<6:10:41, 13.22it/s]"
          ]
        },
        {
          "output_type": "stream",
          "name": "stdout",
          "text": [
            "Average agent reward:  260.0\n"
          ]
        },
        {
          "output_type": "stream",
          "name": "stderr",
          "text": [
            "  2%|█▏                                               | 7025/300001 [01:41<6:31:16, 12.48it/s]"
          ]
        },
        {
          "output_type": "stream",
          "name": "stdout",
          "text": [
            "Average agent reward:  400.0\n"
          ]
        },
        {
          "output_type": "stream",
          "name": "stderr",
          "text": [
            "  3%|█▎                                               | 8018/300001 [01:52<6:00:18, 13.51it/s]"
          ]
        },
        {
          "output_type": "stream",
          "name": "stdout",
          "text": [
            "Average agent reward:  280.0\n"
          ]
        },
        {
          "output_type": "stream",
          "name": "stderr",
          "text": [
            "  3%|█▍                                               | 9021/300001 [02:05<6:58:12, 11.60it/s]"
          ]
        },
        {
          "output_type": "stream",
          "name": "stdout",
          "text": [
            "Average agent reward:  420.0\n"
          ]
        },
        {
          "output_type": "stream",
          "name": "stderr",
          "text": [
            "  3%|█▌                                              | 10016/300001 [02:19<8:43:14,  9.24it/s]"
          ]
        },
        {
          "output_type": "stream",
          "name": "stdout",
          "text": [
            "Average agent reward:  850.0\n"
          ]
        },
        {
          "output_type": "stream",
          "name": "stderr",
          "text": [
            "  4%|█▊                                              | 11026/300001 [02:33<8:02:51,  9.97it/s]"
          ]
        },
        {
          "output_type": "stream",
          "name": "stdout",
          "text": [
            "Average agent reward:  660.0\n"
          ]
        },
        {
          "output_type": "stream",
          "name": "stderr",
          "text": [
            "  4%|█▉                                              | 12015/300001 [02:45<5:39:37, 14.13it/s]"
          ]
        },
        {
          "output_type": "stream",
          "name": "stdout",
          "text": [
            "Average agent reward:  270.0\n"
          ]
        },
        {
          "output_type": "stream",
          "name": "stderr",
          "text": [
            "  4%|██                                             | 13021/300001 [03:01<10:35:17,  7.53it/s]"
          ]
        },
        {
          "output_type": "stream",
          "name": "stdout",
          "text": [
            "Average agent reward:  1090.0\n"
          ]
        },
        {
          "output_type": "stream",
          "name": "stderr",
          "text": [
            "  5%|██▏                                             | 14021/300001 [03:15<7:36:15, 10.45it/s]"
          ]
        },
        {
          "output_type": "stream",
          "name": "stdout",
          "text": [
            "Average agent reward:  440.0\n"
          ]
        },
        {
          "output_type": "stream",
          "name": "stderr",
          "text": [
            "  5%|██▍                                             | 15028/300001 [03:28<6:50:45, 11.56it/s]"
          ]
        },
        {
          "output_type": "stream",
          "name": "stdout",
          "text": [
            "Average agent reward:  540.0\n"
          ]
        },
        {
          "output_type": "stream",
          "name": "stderr",
          "text": [
            "  5%|██▌                                             | 16020/300001 [03:40<5:56:02, 13.29it/s]"
          ]
        },
        {
          "output_type": "stream",
          "name": "stdout",
          "text": [
            "Average agent reward:  460.0\n"
          ]
        },
        {
          "output_type": "stream",
          "name": "stderr",
          "text": [
            "  6%|██▋                                             | 17014/300001 [03:54<8:34:18,  9.17it/s]"
          ]
        },
        {
          "output_type": "stream",
          "name": "stdout",
          "text": [
            "Average agent reward:  440.0\n"
          ]
        },
        {
          "output_type": "stream",
          "name": "stderr",
          "text": [
            "  6%|██▉                                             | 18025/300001 [04:08<6:48:56, 11.49it/s]"
          ]
        },
        {
          "output_type": "stream",
          "name": "stdout",
          "text": [
            "Average agent reward:  550.0\n"
          ]
        },
        {
          "output_type": "stream",
          "name": "stderr",
          "text": [
            "  6%|███                                             | 19021/300001 [04:21<7:24:17, 10.54it/s]"
          ]
        },
        {
          "output_type": "stream",
          "name": "stdout",
          "text": [
            "Average agent reward:  660.0\n"
          ]
        },
        {
          "output_type": "stream",
          "name": "stderr",
          "text": [
            "  7%|███▏                                            | 20015/300001 [04:34<6:50:07, 11.38it/s]"
          ]
        },
        {
          "output_type": "stream",
          "name": "stdout",
          "text": [
            "Average agent reward:  230.0\n"
          ]
        },
        {
          "output_type": "stream",
          "name": "stderr",
          "text": [
            "  7%|███▎                                            | 21024/300001 [04:45<5:07:49, 15.10it/s]"
          ]
        },
        {
          "output_type": "stream",
          "name": "stdout",
          "text": [
            "Average agent reward:  60.0\n"
          ]
        },
        {
          "output_type": "stream",
          "name": "stderr",
          "text": [
            "  7%|███▌                                            | 22025/300001 [04:58<6:55:24, 11.15it/s]"
          ]
        },
        {
          "output_type": "stream",
          "name": "stdout",
          "text": [
            "Average agent reward:  530.0\n"
          ]
        },
        {
          "output_type": "stream",
          "name": "stderr",
          "text": [
            "  8%|███▌                                           | 23012/300001 [05:12<10:42:14,  7.19it/s]"
          ]
        },
        {
          "output_type": "stream",
          "name": "stdout",
          "text": [
            "Average agent reward:  390.0\n"
          ]
        },
        {
          "output_type": "stream",
          "name": "stderr",
          "text": [
            "  8%|███▊                                            | 24018/300001 [05:25<6:56:58, 11.03it/s]"
          ]
        },
        {
          "output_type": "stream",
          "name": "stdout",
          "text": [
            "Average agent reward:  310.0\n"
          ]
        },
        {
          "output_type": "stream",
          "name": "stderr",
          "text": [
            "  8%|████                                            | 25028/300001 [05:37<6:07:10, 12.48it/s]"
          ]
        },
        {
          "output_type": "stream",
          "name": "stdout",
          "text": [
            "Average agent reward:  120.0\n"
          ]
        },
        {
          "output_type": "stream",
          "name": "stderr",
          "text": [
            "  9%|████▏                                           | 26027/300001 [05:49<5:32:19, 13.74it/s]"
          ]
        },
        {
          "output_type": "stream",
          "name": "stdout",
          "text": [
            "Average agent reward:  80.0\n"
          ]
        },
        {
          "output_type": "stream",
          "name": "stderr",
          "text": [
            "  9%|████▎                                           | 27026/300001 [06:01<5:24:25, 14.02it/s]"
          ]
        },
        {
          "output_type": "stream",
          "name": "stdout",
          "text": [
            "Average agent reward:  270.0\n"
          ]
        },
        {
          "output_type": "stream",
          "name": "stderr",
          "text": [
            "  9%|████▍                                           | 28026/300001 [06:14<5:43:17, 13.20it/s]"
          ]
        },
        {
          "output_type": "stream",
          "name": "stdout",
          "text": [
            "Average agent reward:  90.0\n"
          ]
        },
        {
          "output_type": "stream",
          "name": "stderr",
          "text": [
            " 10%|████▋                                           | 29028/300001 [06:26<5:18:53, 14.16it/s]"
          ]
        },
        {
          "output_type": "stream",
          "name": "stdout",
          "text": [
            "Average agent reward:  140.0\n"
          ]
        },
        {
          "output_type": "stream",
          "name": "stderr",
          "text": [
            " 10%|████▊                                           | 30022/300001 [06:36<4:53:10, 15.35it/s]"
          ]
        },
        {
          "output_type": "stream",
          "name": "stdout",
          "text": [
            "Average agent reward:  170.0\n"
          ]
        },
        {
          "output_type": "stream",
          "name": "stderr",
          "text": [
            " 10%|████▉                                           | 31017/300001 [06:48<5:30:04, 13.58it/s]"
          ]
        },
        {
          "output_type": "stream",
          "name": "stdout",
          "text": [
            "Average agent reward:  700.0\n"
          ]
        },
        {
          "output_type": "stream",
          "name": "stderr",
          "text": [
            " 11%|█████                                           | 32018/300001 [07:00<5:56:08, 12.54it/s]"
          ]
        },
        {
          "output_type": "stream",
          "name": "stdout",
          "text": [
            "Average agent reward:  740.0\n"
          ]
        },
        {
          "output_type": "stream",
          "name": "stderr",
          "text": [
            " 11%|█████▎                                          | 33024/300001 [07:12<5:07:29, 14.47it/s]"
          ]
        },
        {
          "output_type": "stream",
          "name": "stdout",
          "text": [
            "Average agent reward:  330.0\n"
          ]
        },
        {
          "output_type": "stream",
          "name": "stderr",
          "text": [
            " 11%|█████▍                                          | 34022/300001 [07:24<4:55:44, 14.99it/s]"
          ]
        },
        {
          "output_type": "stream",
          "name": "stdout",
          "text": [
            "Average agent reward:  430.0\n"
          ]
        },
        {
          "output_type": "stream",
          "name": "stderr",
          "text": [
            " 12%|█████▌                                          | 35028/300001 [07:36<5:06:10, 14.42it/s]"
          ]
        },
        {
          "output_type": "stream",
          "name": "stdout",
          "text": [
            "Average agent reward:  170.0\n"
          ]
        },
        {
          "output_type": "stream",
          "name": "stderr",
          "text": [
            " 12%|█████▊                                          | 36018/300001 [07:49<6:18:46, 11.62it/s]"
          ]
        },
        {
          "output_type": "stream",
          "name": "stdout",
          "text": [
            "Average agent reward:  650.0\n"
          ]
        },
        {
          "output_type": "stream",
          "name": "stderr",
          "text": [
            " 12%|█████▉                                          | 37020/300001 [08:00<4:36:29, 15.85it/s]"
          ]
        },
        {
          "output_type": "stream",
          "name": "stdout",
          "text": [
            "Average agent reward:  240.0\n"
          ]
        },
        {
          "output_type": "stream",
          "name": "stderr",
          "text": [
            " 13%|██████                                          | 38018/300001 [08:12<5:04:55, 14.32it/s]"
          ]
        },
        {
          "output_type": "stream",
          "name": "stdout",
          "text": [
            "Average agent reward:  260.0\n"
          ]
        },
        {
          "output_type": "stream",
          "name": "stderr",
          "text": [
            " 13%|██████▏                                         | 39026/300001 [08:24<5:57:03, 12.18it/s]"
          ]
        },
        {
          "output_type": "stream",
          "name": "stdout",
          "text": [
            "Average agent reward:  710.0\n"
          ]
        },
        {
          "output_type": "stream",
          "name": "stderr",
          "text": [
            " 13%|██████▍                                         | 40027/300001 [08:35<4:53:12, 14.78it/s]"
          ]
        },
        {
          "output_type": "stream",
          "name": "stdout",
          "text": [
            "Average agent reward:  330.0\n"
          ]
        },
        {
          "output_type": "stream",
          "name": "stderr",
          "text": [
            " 14%|██████▌                                         | 41019/300001 [08:47<5:58:46, 12.03it/s]"
          ]
        },
        {
          "output_type": "stream",
          "name": "stdout",
          "text": [
            "Average agent reward:  760.0\n"
          ]
        },
        {
          "output_type": "stream",
          "name": "stderr",
          "text": [
            " 14%|██████▋                                         | 42022/300001 [08:59<5:06:16, 14.04it/s]"
          ]
        },
        {
          "output_type": "stream",
          "name": "stdout",
          "text": [
            "Average agent reward:  310.0\n"
          ]
        },
        {
          "output_type": "stream",
          "name": "stderr",
          "text": [
            " 14%|██████▉                                         | 43028/300001 [09:11<5:29:21, 13.00it/s]"
          ]
        },
        {
          "output_type": "stream",
          "name": "stdout",
          "text": [
            "Average agent reward:  670.0\n"
          ]
        },
        {
          "output_type": "stream",
          "name": "stderr",
          "text": [
            " 15%|███████                                         | 44017/300001 [09:22<4:37:30, 15.37it/s]"
          ]
        },
        {
          "output_type": "stream",
          "name": "stdout",
          "text": [
            "Average agent reward:  410.0\n"
          ]
        },
        {
          "output_type": "stream",
          "name": "stderr",
          "text": [
            " 15%|███████▏                                        | 45024/300001 [09:33<4:44:43, 14.93it/s]"
          ]
        },
        {
          "output_type": "stream",
          "name": "stdout",
          "text": [
            "Average agent reward:  460.0\n"
          ]
        },
        {
          "output_type": "stream",
          "name": "stderr",
          "text": [
            " 15%|███████▎                                        | 46019/300001 [09:44<4:39:18, 15.16it/s]"
          ]
        },
        {
          "output_type": "stream",
          "name": "stdout",
          "text": [
            "Average agent reward:  380.0\n"
          ]
        },
        {
          "output_type": "stream",
          "name": "stderr",
          "text": [
            " 16%|███████▌                                        | 47021/300001 [09:55<4:57:14, 14.18it/s]"
          ]
        },
        {
          "output_type": "stream",
          "name": "stdout",
          "text": [
            "Average agent reward:  390.0\n"
          ]
        },
        {
          "output_type": "stream",
          "name": "stderr",
          "text": [
            " 16%|███████▋                                        | 48029/300001 [10:06<4:17:49, 16.29it/s]"
          ]
        },
        {
          "output_type": "stream",
          "name": "stdout",
          "text": [
            "Average agent reward:  220.0\n"
          ]
        },
        {
          "output_type": "stream",
          "name": "stderr",
          "text": [
            " 16%|███████▊                                        | 49021/300001 [10:18<5:25:55, 12.83it/s]"
          ]
        },
        {
          "output_type": "stream",
          "name": "stdout",
          "text": [
            "Average agent reward:  720.0\n"
          ]
        },
        {
          "output_type": "stream",
          "name": "stderr",
          "text": [
            " 17%|████████                                        | 50017/300001 [10:29<4:35:34, 15.12it/s]"
          ]
        },
        {
          "output_type": "stream",
          "name": "stdout",
          "text": [
            "Average agent reward:  200.0\n"
          ]
        },
        {
          "output_type": "stream",
          "name": "stderr",
          "text": [
            " 17%|████████▏                                       | 51019/300001 [10:40<4:21:27, 15.87it/s]"
          ]
        },
        {
          "output_type": "stream",
          "name": "stdout",
          "text": [
            "Average agent reward:  80.0\n"
          ]
        },
        {
          "output_type": "stream",
          "name": "stderr",
          "text": [
            " 17%|████████▎                                       | 52022/300001 [10:51<4:18:17, 16.00it/s]"
          ]
        },
        {
          "output_type": "stream",
          "name": "stdout",
          "text": [
            "Average agent reward:  150.0\n"
          ]
        },
        {
          "output_type": "stream",
          "name": "stderr",
          "text": [
            " 18%|████████▍                                       | 53029/300001 [11:03<5:16:44, 13.00it/s]"
          ]
        },
        {
          "output_type": "stream",
          "name": "stdout",
          "text": [
            "Average agent reward:  510.0\n"
          ]
        },
        {
          "output_type": "stream",
          "name": "stderr",
          "text": [
            " 18%|████████▋                                       | 54029/300001 [11:14<4:53:00, 13.99it/s]"
          ]
        },
        {
          "output_type": "stream",
          "name": "stdout",
          "text": [
            "Average agent reward:  250.0\n"
          ]
        },
        {
          "output_type": "stream",
          "name": "stderr",
          "text": [
            " 18%|████████▊                                       | 55022/300001 [11:27<5:50:55, 11.63it/s]"
          ]
        },
        {
          "output_type": "stream",
          "name": "stdout",
          "text": [
            "Average agent reward:  950.0\n"
          ]
        },
        {
          "output_type": "stream",
          "name": "stderr",
          "text": [
            " 19%|████████▉                                       | 56017/300001 [11:39<5:36:37, 12.08it/s]"
          ]
        },
        {
          "output_type": "stream",
          "name": "stdout",
          "text": [
            "Average agent reward:  730.0\n"
          ]
        },
        {
          "output_type": "stream",
          "name": "stderr",
          "text": [
            " 19%|█████████                                       | 57019/300001 [11:52<5:34:04, 12.12it/s]"
          ]
        },
        {
          "output_type": "stream",
          "name": "stdout",
          "text": [
            "Average agent reward:  940.0\n"
          ]
        },
        {
          "output_type": "stream",
          "name": "stderr",
          "text": [
            " 19%|█████████▎                                      | 58029/300001 [12:03<4:52:59, 13.76it/s]"
          ]
        },
        {
          "output_type": "stream",
          "name": "stdout",
          "text": [
            "Average agent reward:  380.0\n"
          ]
        },
        {
          "output_type": "stream",
          "name": "stderr",
          "text": [
            " 20%|█████████▍                                      | 59028/300001 [12:14<4:14:05, 15.81it/s]"
          ]
        },
        {
          "output_type": "stream",
          "name": "stdout",
          "text": [
            "Average agent reward:  430.0\n"
          ]
        },
        {
          "output_type": "stream",
          "name": "stderr",
          "text": [
            " 20%|█████████▌                                      | 60019/300001 [12:25<4:26:46, 14.99it/s]"
          ]
        },
        {
          "output_type": "stream",
          "name": "stdout",
          "text": [
            "Average agent reward:  310.0\n"
          ]
        },
        {
          "output_type": "stream",
          "name": "stderr",
          "text": [
            " 20%|█████████▊                                      | 61023/300001 [12:36<3:44:56, 17.71it/s]"
          ]
        },
        {
          "output_type": "stream",
          "name": "stdout",
          "text": [
            "Average agent reward:  120.0\n"
          ]
        },
        {
          "output_type": "stream",
          "name": "stderr",
          "text": [
            " 21%|█████████▉                                      | 62026/300001 [12:48<5:09:23, 12.82it/s]"
          ]
        },
        {
          "output_type": "stream",
          "name": "stdout",
          "text": [
            "Average agent reward:  590.0\n"
          ]
        },
        {
          "output_type": "stream",
          "name": "stderr",
          "text": [
            " 21%|██████████                                      | 63020/300001 [13:01<6:16:25, 10.49it/s]"
          ]
        },
        {
          "output_type": "stream",
          "name": "stdout",
          "text": [
            "Average agent reward:  980.0\n"
          ]
        },
        {
          "output_type": "stream",
          "name": "stderr",
          "text": [
            " 21%|██████████▏                                     | 64017/300001 [13:14<5:08:05, 12.77it/s]"
          ]
        },
        {
          "output_type": "stream",
          "name": "stdout",
          "text": [
            "Average agent reward:  950.0\n"
          ]
        },
        {
          "output_type": "stream",
          "name": "stderr",
          "text": [
            " 22%|██████████▍                                     | 65025/300001 [13:25<4:23:39, 14.85it/s]"
          ]
        },
        {
          "output_type": "stream",
          "name": "stdout",
          "text": [
            "Average agent reward:  420.0\n"
          ]
        },
        {
          "output_type": "stream",
          "name": "stderr",
          "text": [
            " 22%|██████████▌                                     | 66017/300001 [13:39<6:36:16,  9.84it/s]"
          ]
        },
        {
          "output_type": "stream",
          "name": "stdout",
          "text": [
            "Average agent reward:  460.0\n"
          ]
        },
        {
          "output_type": "stream",
          "name": "stderr",
          "text": [
            " 22%|██████████▋                                     | 67018/300001 [13:52<5:14:22, 12.35it/s]"
          ]
        },
        {
          "output_type": "stream",
          "name": "stdout",
          "text": [
            "Average agent reward:  440.0\n"
          ]
        },
        {
          "output_type": "stream",
          "name": "stderr",
          "text": [
            " 23%|██████████▉                                     | 68025/300001 [14:03<4:32:13, 14.20it/s]"
          ]
        },
        {
          "output_type": "stream",
          "name": "stdout",
          "text": [
            "Average agent reward:  430.0\n"
          ]
        },
        {
          "output_type": "stream",
          "name": "stderr",
          "text": [
            " 23%|███████████                                     | 69017/300001 [14:14<4:10:17, 15.38it/s]"
          ]
        },
        {
          "output_type": "stream",
          "name": "stdout",
          "text": [
            "Average agent reward:  200.0\n"
          ]
        },
        {
          "output_type": "stream",
          "name": "stderr",
          "text": [
            " 23%|███████████▏                                    | 70019/300001 [14:25<4:05:43, 15.60it/s]"
          ]
        },
        {
          "output_type": "stream",
          "name": "stdout",
          "text": [
            "Average agent reward:  220.0\n"
          ]
        },
        {
          "output_type": "stream",
          "name": "stderr",
          "text": [
            " 24%|███████████▎                                    | 71023/300001 [14:37<4:27:37, 14.26it/s]"
          ]
        },
        {
          "output_type": "stream",
          "name": "stdout",
          "text": [
            "Average agent reward:  380.0\n"
          ]
        },
        {
          "output_type": "stream",
          "name": "stderr",
          "text": [
            " 24%|███████████▌                                    | 72018/300001 [14:48<4:37:08, 13.71it/s]"
          ]
        },
        {
          "output_type": "stream",
          "name": "stdout",
          "text": [
            "Average agent reward:  510.0\n"
          ]
        },
        {
          "output_type": "stream",
          "name": "stderr",
          "text": [
            " 24%|███████████▋                                    | 73027/300001 [15:00<4:37:42, 13.62it/s]"
          ]
        },
        {
          "output_type": "stream",
          "name": "stdout",
          "text": [
            "Average agent reward:  200.0\n"
          ]
        },
        {
          "output_type": "stream",
          "name": "stderr",
          "text": [
            " 25%|███████████▊                                    | 74018/300001 [15:12<4:48:19, 13.06it/s]"
          ]
        },
        {
          "output_type": "stream",
          "name": "stdout",
          "text": [
            "Average agent reward:  710.0\n"
          ]
        },
        {
          "output_type": "stream",
          "name": "stderr",
          "text": [
            " 25%|████████████                                    | 75028/300001 [15:24<5:08:36, 12.15it/s]"
          ]
        },
        {
          "output_type": "stream",
          "name": "stdout",
          "text": [
            "Average agent reward:  550.0\n"
          ]
        },
        {
          "output_type": "stream",
          "name": "stderr",
          "text": [
            " 25%|████████████▏                                   | 76021/300001 [15:35<4:01:58, 15.43it/s]"
          ]
        },
        {
          "output_type": "stream",
          "name": "stdout",
          "text": [
            "Average agent reward:  320.0\n"
          ]
        },
        {
          "output_type": "stream",
          "name": "stderr",
          "text": [
            " 26%|████████████▎                                   | 77020/300001 [15:46<3:52:28, 15.99it/s]"
          ]
        },
        {
          "output_type": "stream",
          "name": "stdout",
          "text": [
            "Average agent reward:  60.0\n"
          ]
        },
        {
          "output_type": "stream",
          "name": "stderr",
          "text": [
            " 26%|████████████▍                                   | 78016/300001 [15:58<6:01:28, 10.24it/s]"
          ]
        },
        {
          "output_type": "stream",
          "name": "stdout",
          "text": [
            "Average agent reward:  390.0\n"
          ]
        },
        {
          "output_type": "stream",
          "name": "stderr",
          "text": [
            " 26%|████████████▋                                   | 79023/300001 [16:09<4:04:04, 15.09it/s]"
          ]
        },
        {
          "output_type": "stream",
          "name": "stdout",
          "text": [
            "Average agent reward:  170.0\n"
          ]
        },
        {
          "output_type": "stream",
          "name": "stderr",
          "text": [
            " 27%|████████████▊                                   | 80020/300001 [16:20<4:01:18, 15.19it/s]"
          ]
        },
        {
          "output_type": "stream",
          "name": "stdout",
          "text": [
            "Average agent reward:  260.0\n"
          ]
        },
        {
          "output_type": "stream",
          "name": "stderr",
          "text": [
            " 27%|████████████▉                                   | 81025/300001 [16:32<4:58:29, 12.23it/s]"
          ]
        },
        {
          "output_type": "stream",
          "name": "stdout",
          "text": [
            "Average agent reward:  470.0\n"
          ]
        },
        {
          "output_type": "stream",
          "name": "stderr",
          "text": [
            " 27%|█████████████                                   | 82030/300001 [16:43<3:51:06, 15.72it/s]"
          ]
        },
        {
          "output_type": "stream",
          "name": "stdout",
          "text": [
            "Average agent reward:  200.0\n"
          ]
        },
        {
          "output_type": "stream",
          "name": "stderr",
          "text": [
            " 28%|█████████████▎                                  | 83028/300001 [16:54<3:58:50, 15.14it/s]"
          ]
        },
        {
          "output_type": "stream",
          "name": "stdout",
          "text": [
            "Average agent reward:  300.0\n"
          ]
        },
        {
          "output_type": "stream",
          "name": "stderr",
          "text": [
            " 28%|█████████████▍                                  | 84024/300001 [17:07<5:04:17, 11.83it/s]"
          ]
        },
        {
          "output_type": "stream",
          "name": "stdout",
          "text": [
            "Average agent reward:  960.0\n"
          ]
        },
        {
          "output_type": "stream",
          "name": "stderr",
          "text": [
            " 28%|█████████████▌                                  | 85017/300001 [17:19<4:30:08, 13.26it/s]"
          ]
        },
        {
          "output_type": "stream",
          "name": "stdout",
          "text": [
            "Average agent reward:  500.0\n"
          ]
        },
        {
          "output_type": "stream",
          "name": "stderr",
          "text": [
            " 29%|█████████████▊                                  | 86030/300001 [17:31<4:28:48, 13.27it/s]"
          ]
        },
        {
          "output_type": "stream",
          "name": "stdout",
          "text": [
            "Average agent reward:  590.0\n"
          ]
        },
        {
          "output_type": "stream",
          "name": "stderr",
          "text": [
            " 29%|█████████████▉                                  | 87018/300001 [17:42<3:58:37, 14.88it/s]"
          ]
        },
        {
          "output_type": "stream",
          "name": "stdout",
          "text": [
            "Average agent reward:  300.0\n"
          ]
        },
        {
          "output_type": "stream",
          "name": "stderr",
          "text": [
            " 29%|██████████████                                  | 88024/300001 [17:53<4:01:51, 14.61it/s]"
          ]
        },
        {
          "output_type": "stream",
          "name": "stdout",
          "text": [
            "Average agent reward:  410.0\n"
          ]
        },
        {
          "output_type": "stream",
          "name": "stderr",
          "text": [
            " 30%|██████████████▏                                 | 89016/300001 [18:05<4:29:54, 13.03it/s]"
          ]
        },
        {
          "output_type": "stream",
          "name": "stdout",
          "text": [
            "Average agent reward:  290.0\n"
          ]
        },
        {
          "output_type": "stream",
          "name": "stderr",
          "text": [
            " 30%|██████████████▍                                 | 90021/300001 [18:17<4:45:39, 12.25it/s]"
          ]
        },
        {
          "output_type": "stream",
          "name": "stdout",
          "text": [
            "Average agent reward:  230.0\n"
          ]
        },
        {
          "output_type": "stream",
          "name": "stderr",
          "text": [
            " 30%|██████████████▌                                 | 91024/300001 [18:28<3:39:51, 15.84it/s]"
          ]
        },
        {
          "output_type": "stream",
          "name": "stdout",
          "text": [
            "Average agent reward:  180.0\n"
          ]
        },
        {
          "output_type": "stream",
          "name": "stderr",
          "text": [
            " 31%|██████████████▋                                 | 92022/300001 [18:39<3:47:28, 15.24it/s]"
          ]
        },
        {
          "output_type": "stream",
          "name": "stdout",
          "text": [
            "Average agent reward:  80.0\n"
          ]
        },
        {
          "output_type": "stream",
          "name": "stderr",
          "text": [
            " 31%|██████████████▉                                 | 93021/300001 [18:49<3:32:34, 16.23it/s]"
          ]
        },
        {
          "output_type": "stream",
          "name": "stdout",
          "text": [
            "Average agent reward:  120.0\n"
          ]
        },
        {
          "output_type": "stream",
          "name": "stderr",
          "text": [
            " 31%|███████████████                                 | 94022/300001 [19:01<3:50:31, 14.89it/s]"
          ]
        },
        {
          "output_type": "stream",
          "name": "stdout",
          "text": [
            "Average agent reward:  250.0\n"
          ]
        },
        {
          "output_type": "stream",
          "name": "stderr",
          "text": [
            " 32%|███████████████▏                                | 95016/300001 [19:12<4:56:24, 11.53it/s]"
          ]
        },
        {
          "output_type": "stream",
          "name": "stdout",
          "text": [
            "Average agent reward:  230.0\n"
          ]
        },
        {
          "output_type": "stream",
          "name": "stderr",
          "text": [
            " 32%|███████████████▎                                | 96022/300001 [19:23<4:19:56, 13.08it/s]"
          ]
        },
        {
          "output_type": "stream",
          "name": "stdout",
          "text": [
            "Average agent reward:  610.0\n"
          ]
        },
        {
          "output_type": "stream",
          "name": "stderr",
          "text": [
            " 32%|███████████████▌                                | 97020/300001 [19:35<4:12:18, 13.41it/s]"
          ]
        },
        {
          "output_type": "stream",
          "name": "stdout",
          "text": [
            "Average agent reward:  570.0\n"
          ]
        },
        {
          "output_type": "stream",
          "name": "stderr",
          "text": [
            " 33%|███████████████▋                                | 98023/300001 [19:47<4:15:40, 13.17it/s]"
          ]
        },
        {
          "output_type": "stream",
          "name": "stdout",
          "text": [
            "Average agent reward:  580.0\n"
          ]
        },
        {
          "output_type": "stream",
          "name": "stderr",
          "text": [
            " 33%|███████████████▊                                | 99025/300001 [19:59<4:18:16, 12.97it/s]"
          ]
        },
        {
          "output_type": "stream",
          "name": "stdout",
          "text": [
            "Average agent reward:  710.0\n"
          ]
        },
        {
          "output_type": "stream",
          "name": "stderr",
          "text": [
            " 33%|███████████████▋                               | 100021/300001 [20:11<4:06:03, 13.55it/s]"
          ]
        },
        {
          "output_type": "stream",
          "name": "stdout",
          "text": [
            "Average agent reward:  550.0\n"
          ]
        },
        {
          "output_type": "stream",
          "name": "stderr",
          "text": [
            " 34%|███████████████▊                               | 101029/300001 [20:23<4:34:37, 12.08it/s]"
          ]
        },
        {
          "output_type": "stream",
          "name": "stdout",
          "text": [
            "Average agent reward:  1090.0\n"
          ]
        },
        {
          "output_type": "stream",
          "name": "stderr",
          "text": [
            " 34%|███████████████▉                               | 102016/300001 [20:35<4:17:09, 12.83it/s]"
          ]
        },
        {
          "output_type": "stream",
          "name": "stdout",
          "text": [
            "Average agent reward:  720.0\n"
          ]
        },
        {
          "output_type": "stream",
          "name": "stderr",
          "text": [
            " 34%|████████████████▏                              | 103020/300001 [20:47<4:05:00, 13.40it/s]"
          ]
        },
        {
          "output_type": "stream",
          "name": "stdout",
          "text": [
            "Average agent reward:  690.0\n"
          ]
        },
        {
          "output_type": "stream",
          "name": "stderr",
          "text": [
            " 35%|████████████████▎                              | 104029/300001 [20:59<4:01:33, 13.52it/s]"
          ]
        },
        {
          "output_type": "stream",
          "name": "stdout",
          "text": [
            "Average agent reward:  470.0\n"
          ]
        },
        {
          "output_type": "stream",
          "name": "stderr",
          "text": [
            " 35%|████████████████▍                              | 105019/300001 [21:10<3:37:40, 14.93it/s]"
          ]
        },
        {
          "output_type": "stream",
          "name": "stdout",
          "text": [
            "Average agent reward:  270.0\n"
          ]
        },
        {
          "output_type": "stream",
          "name": "stderr",
          "text": [
            " 35%|████████████████▌                              | 106017/300001 [21:21<4:04:35, 13.22it/s]"
          ]
        },
        {
          "output_type": "stream",
          "name": "stdout",
          "text": [
            "Average agent reward:  790.0\n"
          ]
        },
        {
          "output_type": "stream",
          "name": "stderr",
          "text": [
            " 36%|████████████████▊                              | 107025/300001 [21:33<4:21:38, 12.29it/s]"
          ]
        },
        {
          "output_type": "stream",
          "name": "stdout",
          "text": [
            "Average agent reward:  560.0\n"
          ]
        },
        {
          "output_type": "stream",
          "name": "stderr",
          "text": [
            " 36%|████████████████▉                              | 108028/300001 [21:45<3:48:19, 14.01it/s]"
          ]
        },
        {
          "output_type": "stream",
          "name": "stdout",
          "text": [
            "Average agent reward:  540.0\n"
          ]
        },
        {
          "output_type": "stream",
          "name": "stderr",
          "text": [
            " 36%|█████████████████                              | 109018/300001 [21:57<3:44:39, 14.17it/s]"
          ]
        },
        {
          "output_type": "stream",
          "name": "stdout",
          "text": [
            "Average agent reward:  300.0\n"
          ]
        },
        {
          "output_type": "stream",
          "name": "stderr",
          "text": [
            " 37%|█████████████████▏                             | 110019/300001 [22:07<3:01:25, 17.45it/s]"
          ]
        },
        {
          "output_type": "stream",
          "name": "stdout",
          "text": [
            "Average agent reward:  180.0\n"
          ]
        },
        {
          "output_type": "stream",
          "name": "stderr",
          "text": [
            " 37%|█████████████████▍                             | 111018/300001 [22:19<4:00:16, 13.11it/s]"
          ]
        },
        {
          "output_type": "stream",
          "name": "stdout",
          "text": [
            "Average agent reward:  550.0\n"
          ]
        },
        {
          "output_type": "stream",
          "name": "stderr",
          "text": [
            " 37%|█████████████████▌                             | 112024/300001 [22:32<4:32:35, 11.49it/s]"
          ]
        },
        {
          "output_type": "stream",
          "name": "stdout",
          "text": [
            "Average agent reward:  1160.0\n"
          ]
        },
        {
          "output_type": "stream",
          "name": "stderr",
          "text": [
            " 38%|█████████████████▋                             | 113024/300001 [22:44<4:13:58, 12.27it/s]"
          ]
        },
        {
          "output_type": "stream",
          "name": "stdout",
          "text": [
            "Average agent reward:  950.0\n"
          ]
        },
        {
          "output_type": "stream",
          "name": "stderr",
          "text": [
            " 38%|█████████████████▊                             | 114016/300001 [22:55<3:35:08, 14.41it/s]"
          ]
        },
        {
          "output_type": "stream",
          "name": "stdout",
          "text": [
            "Average agent reward:  460.0\n"
          ]
        },
        {
          "output_type": "stream",
          "name": "stderr",
          "text": [
            " 38%|██████████████████                             | 115030/300001 [23:07<3:28:20, 14.80it/s]"
          ]
        },
        {
          "output_type": "stream",
          "name": "stdout",
          "text": [
            "Average agent reward:  280.0\n"
          ]
        },
        {
          "output_type": "stream",
          "name": "stderr",
          "text": [
            " 39%|██████████████████▏                            | 116027/300001 [23:19<3:56:42, 12.95it/s]"
          ]
        },
        {
          "output_type": "stream",
          "name": "stdout",
          "text": [
            "Average agent reward:  670.0\n"
          ]
        },
        {
          "output_type": "stream",
          "name": "stderr",
          "text": [
            " 39%|██████████████████▎                            | 117016/300001 [23:31<3:42:30, 13.71it/s]"
          ]
        },
        {
          "output_type": "stream",
          "name": "stdout",
          "text": [
            "Average agent reward:  410.0\n"
          ]
        },
        {
          "output_type": "stream",
          "name": "stderr",
          "text": [
            " 39%|██████████████████▍                            | 118020/300001 [23:42<3:39:38, 13.81it/s]"
          ]
        },
        {
          "output_type": "stream",
          "name": "stdout",
          "text": [
            "Average agent reward:  210.0\n"
          ]
        },
        {
          "output_type": "stream",
          "name": "stderr",
          "text": [
            " 40%|██████████████████▋                            | 119020/300001 [23:53<3:00:14, 16.74it/s]"
          ]
        },
        {
          "output_type": "stream",
          "name": "stdout",
          "text": [
            "Average agent reward:  180.0\n"
          ]
        },
        {
          "output_type": "stream",
          "name": "stderr",
          "text": [
            " 40%|██████████████████▊                            | 120029/300001 [24:05<3:44:32, 13.36it/s]"
          ]
        },
        {
          "output_type": "stream",
          "name": "stdout",
          "text": [
            "Average agent reward:  530.0\n"
          ]
        },
        {
          "output_type": "stream",
          "name": "stderr",
          "text": [
            " 40%|██████████████████▉                            | 121016/300001 [24:16<3:27:04, 14.41it/s]"
          ]
        },
        {
          "output_type": "stream",
          "name": "stdout",
          "text": [
            "Average agent reward:  140.0\n"
          ]
        },
        {
          "output_type": "stream",
          "name": "stderr",
          "text": [
            " 41%|███████████████████                            | 122019/300001 [24:27<3:18:06, 14.97it/s]"
          ]
        },
        {
          "output_type": "stream",
          "name": "stdout",
          "text": [
            "Average agent reward:  200.0\n"
          ]
        },
        {
          "output_type": "stream",
          "name": "stderr",
          "text": [
            " 41%|███████████████████▎                           | 123031/300001 [24:39<3:13:13, 15.26it/s]"
          ]
        },
        {
          "output_type": "stream",
          "name": "stdout",
          "text": [
            "Average agent reward:  140.0\n"
          ]
        },
        {
          "output_type": "stream",
          "name": "stderr",
          "text": [
            " 41%|███████████████████▍                           | 124030/300001 [24:50<3:28:47, 14.05it/s]"
          ]
        },
        {
          "output_type": "stream",
          "name": "stdout",
          "text": [
            "Average agent reward:  450.0\n"
          ]
        },
        {
          "output_type": "stream",
          "name": "stderr",
          "text": [
            " 42%|███████████████████▌                           | 125022/300001 [25:02<3:18:58, 14.66it/s]"
          ]
        },
        {
          "output_type": "stream",
          "name": "stdout",
          "text": [
            "Average agent reward:  260.0\n"
          ]
        },
        {
          "output_type": "stream",
          "name": "stderr",
          "text": [
            " 42%|███████████████████▋                           | 126016/300001 [25:13<3:17:10, 14.71it/s]"
          ]
        },
        {
          "output_type": "stream",
          "name": "stdout",
          "text": [
            "Average agent reward:  240.0\n"
          ]
        },
        {
          "output_type": "stream",
          "name": "stderr",
          "text": [
            " 42%|███████████████████▉                           | 127015/300001 [25:25<5:29:48,  8.74it/s]"
          ]
        },
        {
          "output_type": "stream",
          "name": "stdout",
          "text": [
            "Average agent reward:  890.0\n"
          ]
        },
        {
          "output_type": "stream",
          "name": "stderr",
          "text": [
            " 43%|████████████████████                           | 128021/300001 [25:37<3:24:45, 14.00it/s]"
          ]
        },
        {
          "output_type": "stream",
          "name": "stdout",
          "text": [
            "Average agent reward:  420.0\n"
          ]
        },
        {
          "output_type": "stream",
          "name": "stderr",
          "text": [
            " 43%|████████████████████▏                          | 129023/300001 [25:48<3:18:22, 14.36it/s]"
          ]
        },
        {
          "output_type": "stream",
          "name": "stdout",
          "text": [
            "Average agent reward:  270.0\n"
          ]
        },
        {
          "output_type": "stream",
          "name": "stderr",
          "text": [
            " 43%|████████████████████▎                          | 130025/300001 [26:00<3:38:36, 12.96it/s]"
          ]
        },
        {
          "output_type": "stream",
          "name": "stdout",
          "text": [
            "Average agent reward:  410.0\n"
          ]
        },
        {
          "output_type": "stream",
          "name": "stderr",
          "text": [
            " 44%|████████████████████▌                          | 131023/300001 [26:11<3:21:14, 13.99it/s]"
          ]
        },
        {
          "output_type": "stream",
          "name": "stdout",
          "text": [
            "Average agent reward:  380.0\n"
          ]
        },
        {
          "output_type": "stream",
          "name": "stderr",
          "text": [
            " 44%|████████████████████▋                          | 132024/300001 [26:23<3:30:23, 13.31it/s]"
          ]
        },
        {
          "output_type": "stream",
          "name": "stdout",
          "text": [
            "Average agent reward:  660.0\n"
          ]
        },
        {
          "output_type": "stream",
          "name": "stderr",
          "text": [
            " 44%|████████████████████▊                          | 133028/300001 [26:35<3:13:03, 14.41it/s]"
          ]
        },
        {
          "output_type": "stream",
          "name": "stdout",
          "text": [
            "Average agent reward:  330.0\n"
          ]
        },
        {
          "output_type": "stream",
          "name": "stderr",
          "text": [
            " 45%|████████████████████▉                          | 134030/300001 [26:47<3:26:18, 13.41it/s]"
          ]
        },
        {
          "output_type": "stream",
          "name": "stdout",
          "text": [
            "Average agent reward:  510.0\n"
          ]
        },
        {
          "output_type": "stream",
          "name": "stderr",
          "text": [
            " 45%|█████████████████████▏                         | 135023/300001 [26:58<3:07:43, 14.65it/s]"
          ]
        },
        {
          "output_type": "stream",
          "name": "stdout",
          "text": [
            "Average agent reward:  210.0\n"
          ]
        },
        {
          "output_type": "stream",
          "name": "stderr",
          "text": [
            " 45%|█████████████████████▎                         | 136016/300001 [27:10<3:45:51, 12.10it/s]"
          ]
        },
        {
          "output_type": "stream",
          "name": "stdout",
          "text": [
            "Average agent reward:  740.0\n"
          ]
        },
        {
          "output_type": "stream",
          "name": "stderr",
          "text": [
            " 46%|█████████████████████▍                         | 137024/300001 [27:21<3:03:43, 14.78it/s]"
          ]
        },
        {
          "output_type": "stream",
          "name": "stdout",
          "text": [
            "Average agent reward:  120.0\n"
          ]
        },
        {
          "output_type": "stream",
          "name": "stderr",
          "text": [
            " 46%|█████████████████████▌                         | 138015/300001 [27:34<5:12:44,  8.63it/s]"
          ]
        },
        {
          "output_type": "stream",
          "name": "stdout",
          "text": [
            "Average agent reward:  660.0\n"
          ]
        },
        {
          "output_type": "stream",
          "name": "stderr",
          "text": [
            " 46%|█████████████████████▊                         | 139026/300001 [27:46<3:43:24, 12.01it/s]"
          ]
        },
        {
          "output_type": "stream",
          "name": "stdout",
          "text": [
            "Average agent reward:  690.0\n"
          ]
        },
        {
          "output_type": "stream",
          "name": "stderr",
          "text": [
            " 47%|█████████████████████▉                         | 140024/300001 [27:58<3:48:32, 11.67it/s]"
          ]
        },
        {
          "output_type": "stream",
          "name": "stdout",
          "text": [
            "Average agent reward:  920.0\n"
          ]
        },
        {
          "output_type": "stream",
          "name": "stderr",
          "text": [
            " 47%|██████████████████████                         | 141017/300001 [28:10<3:22:49, 13.06it/s]"
          ]
        },
        {
          "output_type": "stream",
          "name": "stdout",
          "text": [
            "Average agent reward:  440.0\n"
          ]
        },
        {
          "output_type": "stream",
          "name": "stderr",
          "text": [
            " 47%|██████████████████████▎                        | 142028/300001 [28:22<3:22:02, 13.03it/s]"
          ]
        },
        {
          "output_type": "stream",
          "name": "stdout",
          "text": [
            "Average agent reward:  700.0\n"
          ]
        },
        {
          "output_type": "stream",
          "name": "stderr",
          "text": [
            " 48%|██████████████████████▍                        | 143025/300001 [28:35<3:30:09, 12.45it/s]"
          ]
        },
        {
          "output_type": "stream",
          "name": "stdout",
          "text": [
            "Average agent reward:  540.0\n"
          ]
        },
        {
          "output_type": "stream",
          "name": "stderr",
          "text": [
            " 48%|██████████████████████▌                        | 144016/300001 [28:46<3:24:22, 12.72it/s]"
          ]
        },
        {
          "output_type": "stream",
          "name": "stdout",
          "text": [
            "Average agent reward:  570.0\n"
          ]
        },
        {
          "output_type": "stream",
          "name": "stderr",
          "text": [
            " 48%|██████████████████████▋                        | 145020/300001 [28:59<3:22:39, 12.75it/s]"
          ]
        },
        {
          "output_type": "stream",
          "name": "stdout",
          "text": [
            "Average agent reward:  840.0\n"
          ]
        },
        {
          "output_type": "stream",
          "name": "stderr",
          "text": [
            " 49%|██████████████████████▉                        | 146028/300001 [29:10<2:49:27, 15.14it/s]"
          ]
        },
        {
          "output_type": "stream",
          "name": "stdout",
          "text": [
            "Average agent reward:  370.0\n"
          ]
        },
        {
          "output_type": "stream",
          "name": "stderr",
          "text": [
            " 49%|███████████████████████                        | 147023/300001 [29:21<2:37:29, 16.19it/s]"
          ]
        },
        {
          "output_type": "stream",
          "name": "stdout",
          "text": [
            "Average agent reward:  320.0\n"
          ]
        },
        {
          "output_type": "stream",
          "name": "stderr",
          "text": [
            " 49%|███████████████████████▏                       | 148025/300001 [29:32<2:58:22, 14.20it/s]"
          ]
        },
        {
          "output_type": "stream",
          "name": "stdout",
          "text": [
            "Average agent reward:  630.0\n"
          ]
        },
        {
          "output_type": "stream",
          "name": "stderr",
          "text": [
            " 50%|███████████████████████▎                       | 149028/300001 [29:43<3:00:50, 13.91it/s]"
          ]
        },
        {
          "output_type": "stream",
          "name": "stdout",
          "text": [
            "Average agent reward:  430.0\n"
          ]
        },
        {
          "output_type": "stream",
          "name": "stderr",
          "text": [
            " 50%|███████████████████████▌                       | 150019/300001 [29:54<2:42:35, 15.37it/s]"
          ]
        },
        {
          "output_type": "stream",
          "name": "stdout",
          "text": [
            "Average agent reward:  280.0\n"
          ]
        },
        {
          "output_type": "stream",
          "name": "stderr",
          "text": [
            " 50%|███████████████████████▋                       | 151018/300001 [30:05<2:52:55, 14.36it/s]"
          ]
        },
        {
          "output_type": "stream",
          "name": "stdout",
          "text": [
            "Average agent reward:  630.0\n"
          ]
        },
        {
          "output_type": "stream",
          "name": "stderr",
          "text": [
            " 51%|███████████████████████▊                       | 152026/300001 [30:16<2:33:08, 16.10it/s]"
          ]
        },
        {
          "output_type": "stream",
          "name": "stdout",
          "text": [
            "Average agent reward:  140.0\n"
          ]
        },
        {
          "output_type": "stream",
          "name": "stderr",
          "text": [
            " 51%|███████████████████████▉                       | 153033/300001 [30:27<1:44:14, 23.50it/s]"
          ]
        },
        {
          "output_type": "stream",
          "name": "stdout",
          "text": [
            "Average agent reward:  160.0\n"
          ]
        },
        {
          "output_type": "stream",
          "name": "stderr",
          "text": [
            " 51%|████████████████████████▏                      | 154021/300001 [30:37<2:34:29, 15.75it/s]"
          ]
        },
        {
          "output_type": "stream",
          "name": "stdout",
          "text": [
            "Average agent reward:  360.0\n"
          ]
        },
        {
          "output_type": "stream",
          "name": "stderr",
          "text": [
            " 52%|████████████████████████▎                      | 155020/300001 [30:48<2:44:57, 14.65it/s]"
          ]
        },
        {
          "output_type": "stream",
          "name": "stdout",
          "text": [
            "Average agent reward:  510.0\n"
          ]
        },
        {
          "output_type": "stream",
          "name": "stderr",
          "text": [
            " 52%|████████████████████████▍                      | 156017/300001 [30:59<2:32:22, 15.75it/s]"
          ]
        },
        {
          "output_type": "stream",
          "name": "stdout",
          "text": [
            "Average agent reward:  440.0\n"
          ]
        },
        {
          "output_type": "stream",
          "name": "stderr",
          "text": [
            " 52%|████████████████████████▌                      | 157029/300001 [31:10<2:33:28, 15.53it/s]"
          ]
        },
        {
          "output_type": "stream",
          "name": "stdout",
          "text": [
            "Average agent reward:  470.0\n"
          ]
        },
        {
          "output_type": "stream",
          "name": "stderr",
          "text": [
            " 53%|████████████████████████▊                      | 158020/300001 [31:21<2:38:26, 14.93it/s]"
          ]
        },
        {
          "output_type": "stream",
          "name": "stdout",
          "text": [
            "Average agent reward:  540.0\n"
          ]
        },
        {
          "output_type": "stream",
          "name": "stderr",
          "text": [
            " 53%|████████████████████████▉                      | 159032/300001 [31:33<2:49:08, 13.89it/s]"
          ]
        },
        {
          "output_type": "stream",
          "name": "stdout",
          "text": [
            "Average agent reward:  710.0\n"
          ]
        },
        {
          "output_type": "stream",
          "name": "stderr",
          "text": [
            " 53%|█████████████████████████                      | 160030/300001 [31:43<2:25:50, 16.00it/s]"
          ]
        },
        {
          "output_type": "stream",
          "name": "stdout",
          "text": [
            "Average agent reward:  380.0\n"
          ]
        },
        {
          "output_type": "stream",
          "name": "stderr",
          "text": [
            " 54%|█████████████████████████▏                     | 161022/300001 [31:55<2:51:21, 13.52it/s]"
          ]
        },
        {
          "output_type": "stream",
          "name": "stdout",
          "text": [
            "Average agent reward:  910.0\n"
          ]
        },
        {
          "output_type": "stream",
          "name": "stderr",
          "text": [
            " 54%|█████████████████████████▍                     | 162017/300001 [32:06<3:47:03, 10.13it/s]"
          ]
        },
        {
          "output_type": "stream",
          "name": "stdout",
          "text": [
            "Average agent reward:  760.0\n"
          ]
        },
        {
          "output_type": "stream",
          "name": "stderr",
          "text": [
            " 54%|█████████████████████████▌                     | 163026/300001 [32:17<2:13:29, 17.10it/s]"
          ]
        },
        {
          "output_type": "stream",
          "name": "stdout",
          "text": [
            "Average agent reward:  120.0\n"
          ]
        },
        {
          "output_type": "stream",
          "name": "stderr",
          "text": [
            " 55%|█████████████████████████▋                     | 164024/300001 [32:28<2:20:17, 16.15it/s]"
          ]
        },
        {
          "output_type": "stream",
          "name": "stdout",
          "text": [
            "Average agent reward:  390.0\n"
          ]
        },
        {
          "output_type": "stream",
          "name": "stderr",
          "text": [
            " 55%|█████████████████████████▊                     | 165026/300001 [32:39<2:36:20, 14.39it/s]"
          ]
        },
        {
          "output_type": "stream",
          "name": "stdout",
          "text": [
            "Average agent reward:  330.0\n"
          ]
        },
        {
          "output_type": "stream",
          "name": "stderr",
          "text": [
            " 55%|██████████████████████████                     | 166018/300001 [32:50<2:41:36, 13.82it/s]"
          ]
        },
        {
          "output_type": "stream",
          "name": "stdout",
          "text": [
            "Average agent reward:  1010.0\n"
          ]
        },
        {
          "output_type": "stream",
          "name": "stderr",
          "text": [
            " 56%|██████████████████████████▏                    | 167021/300001 [33:01<2:21:46, 15.63it/s]"
          ]
        },
        {
          "output_type": "stream",
          "name": "stdout",
          "text": [
            "Average agent reward:  460.0\n"
          ]
        },
        {
          "output_type": "stream",
          "name": "stderr",
          "text": [
            " 56%|██████████████████████████▎                    | 168026/300001 [33:12<2:24:54, 15.18it/s]"
          ]
        },
        {
          "output_type": "stream",
          "name": "stdout",
          "text": [
            "Average agent reward:  490.0\n"
          ]
        },
        {
          "output_type": "stream",
          "name": "stderr",
          "text": [
            " 56%|██████████████████████████▍                    | 169022/300001 [33:24<2:48:53, 12.93it/s]"
          ]
        },
        {
          "output_type": "stream",
          "name": "stdout",
          "text": [
            "Average agent reward:  930.0\n"
          ]
        },
        {
          "output_type": "stream",
          "name": "stderr",
          "text": [
            " 57%|██████████████████████████▋                    | 170027/300001 [33:35<2:23:29, 15.10it/s]"
          ]
        },
        {
          "output_type": "stream",
          "name": "stdout",
          "text": [
            "Average agent reward:  230.0\n"
          ]
        },
        {
          "output_type": "stream",
          "name": "stderr",
          "text": [
            " 57%|██████████████████████████▊                    | 171026/300001 [33:47<2:31:49, 14.16it/s]"
          ]
        },
        {
          "output_type": "stream",
          "name": "stdout",
          "text": [
            "Average agent reward:  840.0\n"
          ]
        },
        {
          "output_type": "stream",
          "name": "stderr",
          "text": [
            " 57%|██████████████████████████▉                    | 172019/300001 [33:58<2:19:40, 15.27it/s]"
          ]
        },
        {
          "output_type": "stream",
          "name": "stdout",
          "text": [
            "Average agent reward:  400.0\n"
          ]
        },
        {
          "output_type": "stream",
          "name": "stderr",
          "text": [
            " 58%|███████████████████████████                    | 173030/300001 [34:10<2:57:08, 11.95it/s]"
          ]
        },
        {
          "output_type": "stream",
          "name": "stdout",
          "text": [
            "Average agent reward:  700.0\n"
          ]
        },
        {
          "output_type": "stream",
          "name": "stderr",
          "text": [
            " 58%|███████████████████████████▎                   | 174017/300001 [34:21<3:37:36,  9.65it/s]"
          ]
        },
        {
          "output_type": "stream",
          "name": "stdout",
          "text": [
            "Average agent reward:  690.0\n"
          ]
        },
        {
          "output_type": "stream",
          "name": "stderr",
          "text": [
            " 58%|███████████████████████████▍                   | 175020/300001 [34:33<2:27:54, 14.08it/s]"
          ]
        },
        {
          "output_type": "stream",
          "name": "stdout",
          "text": [
            "Average agent reward:  440.0\n"
          ]
        },
        {
          "output_type": "stream",
          "name": "stderr",
          "text": [
            " 59%|███████████████████████████▌                   | 176031/300001 [34:45<2:29:33, 13.82it/s]"
          ]
        },
        {
          "output_type": "stream",
          "name": "stdout",
          "text": [
            "Average agent reward:  930.0\n"
          ]
        },
        {
          "output_type": "stream",
          "name": "stderr",
          "text": [
            " 59%|███████████████████████████▋                   | 177020/300001 [34:56<2:19:41, 14.67it/s]"
          ]
        },
        {
          "output_type": "stream",
          "name": "stdout",
          "text": [
            "Average agent reward:  220.0\n"
          ]
        },
        {
          "output_type": "stream",
          "name": "stderr",
          "text": [
            " 59%|███████████████████████████▉                   | 178032/300001 [35:07<2:18:26, 14.68it/s]"
          ]
        },
        {
          "output_type": "stream",
          "name": "stdout",
          "text": [
            "Average agent reward:  180.0\n"
          ]
        },
        {
          "output_type": "stream",
          "name": "stderr",
          "text": [
            " 60%|████████████████████████████                   | 179030/300001 [35:18<2:19:39, 14.44it/s]"
          ]
        },
        {
          "output_type": "stream",
          "name": "stdout",
          "text": [
            "Average agent reward:  720.0\n"
          ]
        },
        {
          "output_type": "stream",
          "name": "stderr",
          "text": [
            " 60%|████████████████████████████▏                  | 180027/300001 [35:30<2:26:21, 13.66it/s]"
          ]
        },
        {
          "output_type": "stream",
          "name": "stdout",
          "text": [
            "Average agent reward:  670.0\n"
          ]
        },
        {
          "output_type": "stream",
          "name": "stderr",
          "text": [
            " 60%|████████████████████████████▎                  | 181024/300001 [35:41<2:14:03, 14.79it/s]"
          ]
        },
        {
          "output_type": "stream",
          "name": "stdout",
          "text": [
            "Average agent reward:  420.0\n"
          ]
        },
        {
          "output_type": "stream",
          "name": "stderr",
          "text": [
            " 61%|████████████████████████████▌                  | 182023/300001 [35:52<2:12:42, 14.82it/s]"
          ]
        },
        {
          "output_type": "stream",
          "name": "stdout",
          "text": [
            "Average agent reward:  350.0\n"
          ]
        },
        {
          "output_type": "stream",
          "name": "stderr",
          "text": [
            " 61%|████████████████████████████▋                  | 183018/300001 [36:03<2:14:10, 14.53it/s]"
          ]
        },
        {
          "output_type": "stream",
          "name": "stdout",
          "text": [
            "Average agent reward:  510.0\n"
          ]
        },
        {
          "output_type": "stream",
          "name": "stderr",
          "text": [
            " 61%|████████████████████████████▊                  | 184028/300001 [36:16<2:45:22, 11.69it/s]"
          ]
        },
        {
          "output_type": "stream",
          "name": "stdout",
          "text": [
            "Average agent reward:  1210.0\n"
          ]
        },
        {
          "output_type": "stream",
          "name": "stderr",
          "text": [
            " 62%|████████████████████████████▉                  | 185025/300001 [36:27<2:22:30, 13.45it/s]"
          ]
        },
        {
          "output_type": "stream",
          "name": "stdout",
          "text": [
            "Average agent reward:  650.0\n"
          ]
        },
        {
          "output_type": "stream",
          "name": "stderr",
          "text": [
            " 62%|█████████████████████████████▏                 | 186017/300001 [36:39<2:31:58, 12.50it/s]"
          ]
        },
        {
          "output_type": "stream",
          "name": "stdout",
          "text": [
            "Average agent reward:  750.0\n"
          ]
        },
        {
          "output_type": "stream",
          "name": "stderr",
          "text": [
            " 62%|█████████████████████████████▎                 | 187023/300001 [36:51<2:22:50, 13.18it/s]"
          ]
        },
        {
          "output_type": "stream",
          "name": "stdout",
          "text": [
            "Average agent reward:  650.0\n"
          ]
        },
        {
          "output_type": "stream",
          "name": "stderr",
          "text": [
            " 63%|█████████████████████████████▍                 | 188028/300001 [37:02<2:13:11, 14.01it/s]"
          ]
        },
        {
          "output_type": "stream",
          "name": "stdout",
          "text": [
            "Average agent reward:  590.0\n"
          ]
        },
        {
          "output_type": "stream",
          "name": "stderr",
          "text": [
            " 63%|█████████████████████████████▌                 | 189020/300001 [37:14<2:24:49, 12.77it/s]"
          ]
        },
        {
          "output_type": "stream",
          "name": "stdout",
          "text": [
            "Average agent reward:  640.0\n"
          ]
        },
        {
          "output_type": "stream",
          "name": "stderr",
          "text": [
            " 63%|█████████████████████████████▊                 | 190023/300001 [37:27<2:42:12, 11.30it/s]"
          ]
        },
        {
          "output_type": "stream",
          "name": "stdout",
          "text": [
            "Average agent reward:  1170.0\n"
          ]
        },
        {
          "output_type": "stream",
          "name": "stderr",
          "text": [
            " 64%|█████████████████████████████▉                 | 191031/300001 [37:39<2:13:05, 13.65it/s]"
          ]
        },
        {
          "output_type": "stream",
          "name": "stdout",
          "text": [
            "Average agent reward:  930.0\n"
          ]
        },
        {
          "output_type": "stream",
          "name": "stderr",
          "text": [
            " 64%|██████████████████████████████                 | 192031/300001 [37:50<2:07:11, 14.15it/s]"
          ]
        },
        {
          "output_type": "stream",
          "name": "stdout",
          "text": [
            "Average agent reward:  800.0\n"
          ]
        },
        {
          "output_type": "stream",
          "name": "stderr",
          "text": [
            " 64%|██████████████████████████████▏                | 193030/300001 [38:02<2:05:37, 14.19it/s]"
          ]
        },
        {
          "output_type": "stream",
          "name": "stdout",
          "text": [
            "Average agent reward:  690.0\n"
          ]
        },
        {
          "output_type": "stream",
          "name": "stderr",
          "text": [
            " 65%|██████████████████████████████▍                | 194028/300001 [38:12<1:56:13, 15.20it/s]"
          ]
        },
        {
          "output_type": "stream",
          "name": "stdout",
          "text": [
            "Average agent reward:  560.0\n"
          ]
        },
        {
          "output_type": "stream",
          "name": "stderr",
          "text": [
            " 65%|██████████████████████████████▌                | 195024/300001 [38:24<2:01:53, 14.35it/s]"
          ]
        },
        {
          "output_type": "stream",
          "name": "stdout",
          "text": [
            "Average agent reward:  720.0\n"
          ]
        },
        {
          "output_type": "stream",
          "name": "stderr",
          "text": [
            " 65%|██████████████████████████████▋                | 196033/300001 [38:35<2:01:36, 14.25it/s]"
          ]
        },
        {
          "output_type": "stream",
          "name": "stdout",
          "text": [
            "Average agent reward:  900.0\n"
          ]
        },
        {
          "output_type": "stream",
          "name": "stderr",
          "text": [
            " 66%|██████████████████████████████▊                | 197015/300001 [38:47<3:20:18,  8.57it/s]"
          ]
        },
        {
          "output_type": "stream",
          "name": "stdout",
          "text": [
            "Average agent reward:  1370.0\n"
          ]
        },
        {
          "output_type": "stream",
          "name": "stderr",
          "text": [
            " 66%|███████████████████████████████                | 198027/300001 [39:00<2:19:39, 12.17it/s]"
          ]
        },
        {
          "output_type": "stream",
          "name": "stdout",
          "text": [
            "Average agent reward:  1480.0\n"
          ]
        },
        {
          "output_type": "stream",
          "name": "stderr",
          "text": [
            " 66%|███████████████████████████████▏               | 199022/300001 [39:12<1:58:49, 14.16it/s]"
          ]
        },
        {
          "output_type": "stream",
          "name": "stdout",
          "text": [
            "Average agent reward:  1020.0\n"
          ]
        },
        {
          "output_type": "stream",
          "name": "stderr",
          "text": [
            " 67%|███████████████████████████████▎               | 200020/300001 [39:23<2:03:59, 13.44it/s]"
          ]
        },
        {
          "output_type": "stream",
          "name": "stdout",
          "text": [
            "Average agent reward:  840.0\n"
          ]
        },
        {
          "output_type": "stream",
          "name": "stderr",
          "text": [
            " 67%|███████████████████████████████▍               | 201018/300001 [39:35<2:04:16, 13.27it/s]"
          ]
        },
        {
          "output_type": "stream",
          "name": "stdout",
          "text": [
            "Average agent reward:  580.0\n"
          ]
        },
        {
          "output_type": "stream",
          "name": "stderr",
          "text": [
            " 67%|███████████████████████████████▋               | 202032/300001 [39:47<2:02:45, 13.30it/s]"
          ]
        },
        {
          "output_type": "stream",
          "name": "stdout",
          "text": [
            "Average agent reward:  960.0\n"
          ]
        },
        {
          "output_type": "stream",
          "name": "stderr",
          "text": [
            " 68%|███████████████████████████████▊               | 203026/300001 [39:58<1:56:05, 13.92it/s]"
          ]
        },
        {
          "output_type": "stream",
          "name": "stdout",
          "text": [
            "Average agent reward:  970.0\n"
          ]
        },
        {
          "output_type": "stream",
          "name": "stderr",
          "text": [
            " 68%|███████████████████████████████▉               | 204026/300001 [40:10<2:00:08, 13.31it/s]"
          ]
        },
        {
          "output_type": "stream",
          "name": "stdout",
          "text": [
            "Average agent reward:  1150.0\n"
          ]
        },
        {
          "output_type": "stream",
          "name": "stderr",
          "text": [
            " 68%|████████████████████████████████               | 205020/300001 [40:21<1:53:27, 13.95it/s]"
          ]
        },
        {
          "output_type": "stream",
          "name": "stdout",
          "text": [
            "Average agent reward:  820.0\n"
          ]
        },
        {
          "output_type": "stream",
          "name": "stderr",
          "text": [
            " 69%|████████████████████████████████▎              | 206030/300001 [40:34<2:04:32, 12.58it/s]"
          ]
        },
        {
          "output_type": "stream",
          "name": "stdout",
          "text": [
            "Average agent reward:  790.0\n"
          ]
        },
        {
          "output_type": "stream",
          "name": "stderr",
          "text": [
            " 69%|████████████████████████████████▍              | 207027/300001 [40:45<1:45:56, 14.63it/s]"
          ]
        },
        {
          "output_type": "stream",
          "name": "stdout",
          "text": [
            "Average agent reward:  510.0\n"
          ]
        },
        {
          "output_type": "stream",
          "name": "stderr",
          "text": [
            " 69%|████████████████████████████████▌              | 208020/300001 [40:57<2:09:40, 11.82it/s]"
          ]
        },
        {
          "output_type": "stream",
          "name": "stdout",
          "text": [
            "Average agent reward:  770.0\n"
          ]
        },
        {
          "output_type": "stream",
          "name": "stderr",
          "text": [
            " 70%|████████████████████████████████▋              | 209030/300001 [41:11<2:00:31, 12.58it/s]"
          ]
        },
        {
          "output_type": "stream",
          "name": "stdout",
          "text": [
            "Average agent reward:  610.0\n"
          ]
        },
        {
          "output_type": "stream",
          "name": "stderr",
          "text": [
            " 70%|████████████████████████████████▉              | 210025/300001 [41:23<2:09:57, 11.54it/s]"
          ]
        },
        {
          "output_type": "stream",
          "name": "stdout",
          "text": [
            "Average agent reward:  970.0\n"
          ]
        },
        {
          "output_type": "stream",
          "name": "stderr",
          "text": [
            " 70%|█████████████████████████████████              | 211027/300001 [41:35<1:52:13, 13.21it/s]"
          ]
        },
        {
          "output_type": "stream",
          "name": "stdout",
          "text": [
            "Average agent reward:  680.0\n"
          ]
        },
        {
          "output_type": "stream",
          "name": "stderr",
          "text": [
            " 71%|█████████████████████████████████▏             | 212028/300001 [41:47<2:01:35, 12.06it/s]"
          ]
        },
        {
          "output_type": "stream",
          "name": "stdout",
          "text": [
            "Average agent reward:  930.0\n"
          ]
        },
        {
          "output_type": "stream",
          "name": "stderr",
          "text": [
            " 71%|█████████████████████████████████▎             | 213029/300001 [41:59<1:54:22, 12.67it/s]"
          ]
        },
        {
          "output_type": "stream",
          "name": "stdout",
          "text": [
            "Average agent reward:  1000.0\n"
          ]
        },
        {
          "output_type": "stream",
          "name": "stderr",
          "text": [
            " 71%|█████████████████████████████████▌             | 214029/300001 [42:12<2:03:50, 11.57it/s]"
          ]
        },
        {
          "output_type": "stream",
          "name": "stdout",
          "text": [
            "Average agent reward:  1120.0\n"
          ]
        },
        {
          "output_type": "stream",
          "name": "stderr",
          "text": [
            " 72%|█████████████████████████████████▋             | 215016/300001 [42:24<1:49:02, 12.99it/s]"
          ]
        },
        {
          "output_type": "stream",
          "name": "stdout",
          "text": [
            "Average agent reward:  880.0\n"
          ]
        },
        {
          "output_type": "stream",
          "name": "stderr",
          "text": [
            " 72%|█████████████████████████████████▊             | 216019/300001 [42:36<1:48:15, 12.93it/s]"
          ]
        },
        {
          "output_type": "stream",
          "name": "stdout",
          "text": [
            "Average agent reward:  610.0\n"
          ]
        },
        {
          "output_type": "stream",
          "name": "stderr",
          "text": [
            " 72%|█████████████████████████████████▉             | 217017/300001 [42:48<2:00:45, 11.45it/s]"
          ]
        },
        {
          "output_type": "stream",
          "name": "stdout",
          "text": [
            "Average agent reward:  1020.0\n"
          ]
        },
        {
          "output_type": "stream",
          "name": "stderr",
          "text": [
            " 73%|██████████████████████████████████▏            | 218028/300001 [43:00<1:47:13, 12.74it/s]"
          ]
        },
        {
          "output_type": "stream",
          "name": "stdout",
          "text": [
            "Average agent reward:  790.0\n"
          ]
        },
        {
          "output_type": "stream",
          "name": "stderr",
          "text": [
            " 73%|██████████████████████████████████▎            | 219033/300001 [43:12<1:42:14, 13.20it/s]"
          ]
        },
        {
          "output_type": "stream",
          "name": "stdout",
          "text": [
            "Average agent reward:  750.0\n"
          ]
        },
        {
          "output_type": "stream",
          "name": "stderr",
          "text": [
            " 73%|██████████████████████████████████▍            | 220023/300001 [43:24<1:46:42, 12.49it/s]"
          ]
        },
        {
          "output_type": "stream",
          "name": "stdout",
          "text": [
            "Average agent reward:  540.0\n"
          ]
        },
        {
          "output_type": "stream",
          "name": "stderr",
          "text": [
            " 74%|██████████████████████████████████▋            | 221028/300001 [43:37<1:47:36, 12.23it/s]"
          ]
        },
        {
          "output_type": "stream",
          "name": "stdout",
          "text": [
            "Average agent reward:  950.0\n"
          ]
        },
        {
          "output_type": "stream",
          "name": "stderr",
          "text": [
            " 74%|██████████████████████████████████▊            | 222030/300001 [43:48<1:35:28, 13.61it/s]"
          ]
        },
        {
          "output_type": "stream",
          "name": "stdout",
          "text": [
            "Average agent reward:  690.0\n"
          ]
        },
        {
          "output_type": "stream",
          "name": "stderr",
          "text": [
            " 74%|██████████████████████████████████▉            | 223031/300001 [44:00<1:35:53, 13.38it/s]"
          ]
        },
        {
          "output_type": "stream",
          "name": "stdout",
          "text": [
            "Average agent reward:  790.0\n"
          ]
        },
        {
          "output_type": "stream",
          "name": "stderr",
          "text": [
            " 75%|███████████████████████████████████            | 224022/300001 [44:13<1:51:44, 11.33it/s]"
          ]
        },
        {
          "output_type": "stream",
          "name": "stdout",
          "text": [
            "Average agent reward:  970.0\n"
          ]
        },
        {
          "output_type": "stream",
          "name": "stderr",
          "text": [
            " 75%|███████████████████████████████████▎           | 225027/300001 [44:25<1:32:34, 13.50it/s]"
          ]
        },
        {
          "output_type": "stream",
          "name": "stdout",
          "text": [
            "Average agent reward:  460.0\n"
          ]
        },
        {
          "output_type": "stream",
          "name": "stderr",
          "text": [
            " 75%|███████████████████████████████████▍           | 226027/300001 [44:37<1:33:05, 13.24it/s]"
          ]
        },
        {
          "output_type": "stream",
          "name": "stdout",
          "text": [
            "Average agent reward:  910.0\n"
          ]
        },
        {
          "output_type": "stream",
          "name": "stderr",
          "text": [
            " 76%|███████████████████████████████████▌           | 227032/300001 [44:49<1:44:08, 11.68it/s]"
          ]
        },
        {
          "output_type": "stream",
          "name": "stdout",
          "text": [
            "Average agent reward:  610.0\n"
          ]
        },
        {
          "output_type": "stream",
          "name": "stderr",
          "text": [
            " 76%|███████████████████████████████████▋           | 228027/300001 [45:02<1:50:33, 10.85it/s]"
          ]
        },
        {
          "output_type": "stream",
          "name": "stdout",
          "text": [
            "Average agent reward:  1210.0\n"
          ]
        },
        {
          "output_type": "stream",
          "name": "stderr",
          "text": [
            " 76%|███████████████████████████████████▉           | 229018/300001 [45:15<1:34:42, 12.49it/s]"
          ]
        },
        {
          "output_type": "stream",
          "name": "stdout",
          "text": [
            "Average agent reward:  780.0\n"
          ]
        },
        {
          "output_type": "stream",
          "name": "stderr",
          "text": [
            " 77%|████████████████████████████████████           | 230023/300001 [45:27<1:39:14, 11.75it/s]"
          ]
        },
        {
          "output_type": "stream",
          "name": "stdout",
          "text": [
            "Average agent reward:  650.0\n"
          ]
        },
        {
          "output_type": "stream",
          "name": "stderr",
          "text": [
            " 77%|████████████████████████████████████▏          | 231022/300001 [45:40<1:40:14, 11.47it/s]"
          ]
        },
        {
          "output_type": "stream",
          "name": "stdout",
          "text": [
            "Average agent reward:  790.0\n"
          ]
        },
        {
          "output_type": "stream",
          "name": "stderr",
          "text": [
            " 77%|████████████████████████████████████▎          | 232021/300001 [45:53<1:34:13, 12.02it/s]"
          ]
        },
        {
          "output_type": "stream",
          "name": "stdout",
          "text": [
            "Average agent reward:  810.0\n"
          ]
        },
        {
          "output_type": "stream",
          "name": "stderr",
          "text": [
            " 78%|████████████████████████████████████▌          | 233015/300001 [46:06<2:32:39,  7.31it/s]"
          ]
        },
        {
          "output_type": "stream",
          "name": "stdout",
          "text": [
            "Average agent reward:  890.0\n"
          ]
        },
        {
          "output_type": "stream",
          "name": "stderr",
          "text": [
            " 78%|████████████████████████████████████▋          | 234018/300001 [46:20<1:35:48, 11.48it/s]"
          ]
        },
        {
          "output_type": "stream",
          "name": "stdout",
          "text": [
            "Average agent reward:  880.0\n"
          ]
        },
        {
          "output_type": "stream",
          "name": "stderr",
          "text": [
            " 78%|████████████████████████████████████▊          | 235019/300001 [46:32<1:25:09, 12.72it/s]"
          ]
        },
        {
          "output_type": "stream",
          "name": "stdout",
          "text": [
            "Average agent reward:  360.0\n"
          ]
        },
        {
          "output_type": "stream",
          "name": "stderr",
          "text": [
            " 79%|████████████████████████████████████▉          | 236019/300001 [46:45<1:42:07, 10.44it/s]"
          ]
        },
        {
          "output_type": "stream",
          "name": "stdout",
          "text": [
            "Average agent reward:  1250.0\n"
          ]
        },
        {
          "output_type": "stream",
          "name": "stderr",
          "text": [
            " 79%|█████████████████████████████████████▏         | 237025/300001 [46:58<1:31:59, 11.41it/s]"
          ]
        },
        {
          "output_type": "stream",
          "name": "stdout",
          "text": [
            "Average agent reward:  830.0\n"
          ]
        },
        {
          "output_type": "stream",
          "name": "stderr",
          "text": [
            " 79%|█████████████████████████████████████▎         | 238017/300001 [47:10<1:27:07, 11.86it/s]"
          ]
        },
        {
          "output_type": "stream",
          "name": "stdout",
          "text": [
            "Average agent reward:  600.0\n"
          ]
        },
        {
          "output_type": "stream",
          "name": "stderr",
          "text": [
            " 80%|█████████████████████████████████████▍         | 239025/300001 [47:23<1:27:56, 11.56it/s]"
          ]
        },
        {
          "output_type": "stream",
          "name": "stdout",
          "text": [
            "Average agent reward:  760.0\n"
          ]
        },
        {
          "output_type": "stream",
          "name": "stderr",
          "text": [
            " 80%|█████████████████████████████████████▌         | 240023/300001 [47:36<1:32:26, 10.81it/s]"
          ]
        },
        {
          "output_type": "stream",
          "name": "stdout",
          "text": [
            "Average agent reward:  750.0\n"
          ]
        },
        {
          "output_type": "stream",
          "name": "stderr",
          "text": [
            " 80%|█████████████████████████████████████▊         | 241014/300001 [47:48<1:44:37,  9.40it/s]"
          ]
        },
        {
          "output_type": "stream",
          "name": "stdout",
          "text": [
            "Average agent reward:  620.0\n"
          ]
        },
        {
          "output_type": "stream",
          "name": "stderr",
          "text": [
            " 81%|█████████████████████████████████████▉         | 242027/300001 [48:00<1:20:11, 12.05it/s]"
          ]
        },
        {
          "output_type": "stream",
          "name": "stdout",
          "text": [
            "Average agent reward:  980.0\n"
          ]
        },
        {
          "output_type": "stream",
          "name": "stderr",
          "text": [
            " 81%|██████████████████████████████████████         | 243026/300001 [48:13<1:26:46, 10.94it/s]"
          ]
        },
        {
          "output_type": "stream",
          "name": "stdout",
          "text": [
            "Average agent reward:  840.0\n"
          ]
        },
        {
          "output_type": "stream",
          "name": "stderr",
          "text": [
            " 81%|██████████████████████████████████████▏        | 244027/300001 [48:25<1:16:47, 12.15it/s]"
          ]
        },
        {
          "output_type": "stream",
          "name": "stdout",
          "text": [
            "Average agent reward:  700.0\n"
          ]
        },
        {
          "output_type": "stream",
          "name": "stderr",
          "text": [
            " 82%|██████████████████████████████████████▍        | 245024/300001 [48:39<1:30:23, 10.14it/s]"
          ]
        },
        {
          "output_type": "stream",
          "name": "stdout",
          "text": [
            "Average agent reward:  1180.0\n"
          ]
        },
        {
          "output_type": "stream",
          "name": "stderr",
          "text": [
            " 82%|██████████████████████████████████████▌        | 246028/300001 [48:52<1:20:39, 11.15it/s]"
          ]
        },
        {
          "output_type": "stream",
          "name": "stdout",
          "text": [
            "Average agent reward:  1010.0\n"
          ]
        },
        {
          "output_type": "stream",
          "name": "stderr",
          "text": [
            " 82%|██████████████████████████████████████▋        | 247025/300001 [49:05<1:13:59, 11.93it/s]"
          ]
        },
        {
          "output_type": "stream",
          "name": "stdout",
          "text": [
            "Average agent reward:  760.0\n"
          ]
        },
        {
          "output_type": "stream",
          "name": "stderr",
          "text": [
            " 83%|██████████████████████████████████████▊        | 248025/300001 [49:17<1:12:07, 12.01it/s]"
          ]
        },
        {
          "output_type": "stream",
          "name": "stdout",
          "text": [
            "Average agent reward:  750.0\n"
          ]
        },
        {
          "output_type": "stream",
          "name": "stderr",
          "text": [
            " 83%|███████████████████████████████████████        | 249014/300001 [49:32<2:12:13,  6.43it/s]"
          ]
        },
        {
          "output_type": "stream",
          "name": "stdout",
          "text": [
            "Average agent reward:  760.0\n"
          ]
        },
        {
          "output_type": "stream",
          "name": "stderr",
          "text": [
            " 83%|███████████████████████████████████████▏       | 250023/300001 [49:45<1:07:00, 12.43it/s]"
          ]
        },
        {
          "output_type": "stream",
          "name": "stdout",
          "text": [
            "Average agent reward:  930.0\n"
          ]
        },
        {
          "output_type": "stream",
          "name": "stderr",
          "text": [
            " 84%|███████████████████████████████████████▎       | 251027/300001 [49:57<1:06:54, 12.20it/s]"
          ]
        },
        {
          "output_type": "stream",
          "name": "stdout",
          "text": [
            "Average agent reward:  840.0\n"
          ]
        },
        {
          "output_type": "stream",
          "name": "stderr",
          "text": [
            " 84%|███████████████████████████████████████▍       | 252020/300001 [50:10<1:09:37, 11.49it/s]"
          ]
        },
        {
          "output_type": "stream",
          "name": "stdout",
          "text": [
            "Average agent reward:  920.0\n"
          ]
        },
        {
          "output_type": "stream",
          "name": "stderr",
          "text": [
            " 84%|███████████████████████████████████████▋       | 253025/300001 [50:23<1:06:07, 11.84it/s]"
          ]
        },
        {
          "output_type": "stream",
          "name": "stdout",
          "text": [
            "Average agent reward:  750.0\n"
          ]
        },
        {
          "output_type": "stream",
          "name": "stderr",
          "text": [
            " 85%|███████████████████████████████████████▊       | 254021/300001 [50:37<1:28:41,  8.64it/s]"
          ]
        },
        {
          "output_type": "stream",
          "name": "stdout",
          "text": [
            "Average agent reward:  740.0\n"
          ]
        },
        {
          "output_type": "stream",
          "name": "stderr",
          "text": [
            " 85%|███████████████████████████████████████▉       | 255025/300001 [50:50<1:09:36, 10.77it/s]"
          ]
        },
        {
          "output_type": "stream",
          "name": "stdout",
          "text": [
            "Average agent reward:  370.0\n"
          ]
        },
        {
          "output_type": "stream",
          "name": "stderr",
          "text": [
            " 85%|█████████████████████████████████████████▊       | 256025/300001 [51:02<59:46, 12.26it/s]"
          ]
        },
        {
          "output_type": "stream",
          "name": "stdout",
          "text": [
            "Average agent reward:  680.0\n"
          ]
        },
        {
          "output_type": "stream",
          "name": "stderr",
          "text": [
            " 86%|████████████████████████████████████████▎      | 257030/300001 [51:15<1:03:16, 11.32it/s]"
          ]
        },
        {
          "output_type": "stream",
          "name": "stdout",
          "text": [
            "Average agent reward:  620.0\n"
          ]
        },
        {
          "output_type": "stream",
          "name": "stderr",
          "text": [
            " 86%|██████████████████████████████████████████▏      | 258019/300001 [51:26<50:07, 13.96it/s]"
          ]
        },
        {
          "output_type": "stream",
          "name": "stdout",
          "text": [
            "Average agent reward:  280.0\n"
          ]
        },
        {
          "output_type": "stream",
          "name": "stderr",
          "text": [
            " 86%|██████████████████████████████████████████▎      | 259026/300001 [51:38<54:17, 12.58it/s]"
          ]
        },
        {
          "output_type": "stream",
          "name": "stdout",
          "text": [
            "Average agent reward:  580.0\n"
          ]
        },
        {
          "output_type": "stream",
          "name": "stderr",
          "text": [
            " 87%|██████████████████████████████████████████▍      | 260025/300001 [51:50<50:56, 13.08it/s]"
          ]
        },
        {
          "output_type": "stream",
          "name": "stdout",
          "text": [
            "Average agent reward:  820.0\n"
          ]
        },
        {
          "output_type": "stream",
          "name": "stderr",
          "text": [
            " 87%|██████████████████████████████████████████▋      | 261024/300001 [52:03<56:16, 11.54it/s]"
          ]
        },
        {
          "output_type": "stream",
          "name": "stdout",
          "text": [
            "Average agent reward:  520.0\n"
          ]
        },
        {
          "output_type": "stream",
          "name": "stderr",
          "text": [
            " 87%|██████████████████████████████████████████▊      | 262027/300001 [52:15<55:45, 11.35it/s]"
          ]
        },
        {
          "output_type": "stream",
          "name": "stdout",
          "text": [
            "Average agent reward:  720.0\n"
          ]
        },
        {
          "output_type": "stream",
          "name": "stderr",
          "text": [
            " 88%|██████████████████████████████████████████▉      | 263024/300001 [52:27<45:00, 13.69it/s]"
          ]
        },
        {
          "output_type": "stream",
          "name": "stdout",
          "text": [
            "Average agent reward:  560.0\n"
          ]
        },
        {
          "output_type": "stream",
          "name": "stderr",
          "text": [
            " 88%|███████████████████████████████████████████      | 264019/300001 [52:39<43:58, 13.64it/s]"
          ]
        },
        {
          "output_type": "stream",
          "name": "stdout",
          "text": [
            "Average agent reward:  410.0\n"
          ]
        },
        {
          "output_type": "stream",
          "name": "stderr",
          "text": [
            " 88%|███████████████████████████████████████████▎     | 265031/300001 [52:51<45:41, 12.76it/s]"
          ]
        },
        {
          "output_type": "stream",
          "name": "stdout",
          "text": [
            "Average agent reward:  680.0\n"
          ]
        },
        {
          "output_type": "stream",
          "name": "stderr",
          "text": [
            " 89%|███████████████████████████████████████████▍     | 266028/300001 [53:03<43:03, 13.15it/s]"
          ]
        },
        {
          "output_type": "stream",
          "name": "stdout",
          "text": [
            "Average agent reward:  790.0\n"
          ]
        },
        {
          "output_type": "stream",
          "name": "stderr",
          "text": [
            " 89%|███████████████████████████████████████████▌     | 267026/300001 [53:15<42:17, 13.00it/s]"
          ]
        },
        {
          "output_type": "stream",
          "name": "stdout",
          "text": [
            "Average agent reward:  880.0\n"
          ]
        },
        {
          "output_type": "stream",
          "name": "stderr",
          "text": [
            " 89%|███████████████████████████████████████████▊     | 268022/300001 [53:27<41:29, 12.85it/s]"
          ]
        },
        {
          "output_type": "stream",
          "name": "stdout",
          "text": [
            "Average agent reward:  1090.0\n"
          ]
        },
        {
          "output_type": "stream",
          "name": "stderr",
          "text": [
            " 90%|███████████████████████████████████████████▉     | 269024/300001 [53:39<39:48, 12.97it/s]"
          ]
        },
        {
          "output_type": "stream",
          "name": "stdout",
          "text": [
            "Average agent reward:  520.0\n"
          ]
        },
        {
          "output_type": "stream",
          "name": "stderr",
          "text": [
            " 90%|████████████████████████████████████████████     | 270019/300001 [53:50<37:21, 13.38it/s]"
          ]
        },
        {
          "output_type": "stream",
          "name": "stdout",
          "text": [
            "Average agent reward:  730.0\n"
          ]
        },
        {
          "output_type": "stream",
          "name": "stderr",
          "text": [
            " 90%|████████████████████████████████████████████▎    | 271020/300001 [54:03<39:26, 12.25it/s]"
          ]
        },
        {
          "output_type": "stream",
          "name": "stdout",
          "text": [
            "Average agent reward:  610.0\n"
          ]
        },
        {
          "output_type": "stream",
          "name": "stderr",
          "text": [
            " 91%|████████████████████████████████████████████▍    | 272019/300001 [54:15<36:21, 12.83it/s]"
          ]
        },
        {
          "output_type": "stream",
          "name": "stdout",
          "text": [
            "Average agent reward:  660.0\n"
          ]
        },
        {
          "output_type": "stream",
          "name": "stderr",
          "text": [
            " 91%|████████████████████████████████████████████▌    | 273017/300001 [54:27<34:14, 13.13it/s]"
          ]
        },
        {
          "output_type": "stream",
          "name": "stdout",
          "text": [
            "Average agent reward:  570.0\n"
          ]
        },
        {
          "output_type": "stream",
          "name": "stderr",
          "text": [
            " 91%|████████████████████████████████████████████▊    | 274029/300001 [54:39<33:24, 12.96it/s]"
          ]
        },
        {
          "output_type": "stream",
          "name": "stdout",
          "text": [
            "Average agent reward:  760.0\n"
          ]
        },
        {
          "output_type": "stream",
          "name": "stderr",
          "text": [
            " 92%|████████████████████████████████████████████▉    | 275029/300001 [54:50<31:23, 13.26it/s]"
          ]
        },
        {
          "output_type": "stream",
          "name": "stdout",
          "text": [
            "Average agent reward:  600.0\n"
          ]
        },
        {
          "output_type": "stream",
          "name": "stderr",
          "text": [
            " 92%|█████████████████████████████████████████████    | 276026/300001 [55:02<30:54, 12.93it/s]"
          ]
        },
        {
          "output_type": "stream",
          "name": "stdout",
          "text": [
            "Average agent reward:  460.0\n"
          ]
        },
        {
          "output_type": "stream",
          "name": "stderr",
          "text": [
            " 92%|█████████████████████████████████████████████▏   | 277026/300001 [55:14<30:41, 12.47it/s]"
          ]
        },
        {
          "output_type": "stream",
          "name": "stdout",
          "text": [
            "Average agent reward:  680.0\n"
          ]
        },
        {
          "output_type": "stream",
          "name": "stderr",
          "text": [
            " 93%|█████████████████████████████████████████████▍   | 278024/300001 [55:26<27:12, 13.46it/s]"
          ]
        },
        {
          "output_type": "stream",
          "name": "stdout",
          "text": [
            "Average agent reward:  810.0\n"
          ]
        },
        {
          "output_type": "stream",
          "name": "stderr",
          "text": [
            " 93%|█████████████████████████████████████████████▌   | 279024/300001 [55:38<28:26, 12.29it/s]"
          ]
        },
        {
          "output_type": "stream",
          "name": "stdout",
          "text": [
            "Average agent reward:  710.0\n"
          ]
        },
        {
          "output_type": "stream",
          "name": "stderr",
          "text": [
            " 93%|█████████████████████████████████████████████▋   | 280023/300001 [55:50<27:05, 12.29it/s]"
          ]
        },
        {
          "output_type": "stream",
          "name": "stdout",
          "text": [
            "Average agent reward:  490.0\n"
          ]
        },
        {
          "output_type": "stream",
          "name": "stderr",
          "text": [
            " 94%|█████████████████████████████████████████████▉   | 281022/300001 [56:02<24:30, 12.91it/s]"
          ]
        },
        {
          "output_type": "stream",
          "name": "stdout",
          "text": [
            "Average agent reward:  640.0\n"
          ]
        },
        {
          "output_type": "stream",
          "name": "stderr",
          "text": [
            " 94%|██████████████████████████████████████████████   | 282022/300001 [56:14<23:06, 12.96it/s]"
          ]
        },
        {
          "output_type": "stream",
          "name": "stdout",
          "text": [
            "Average agent reward:  780.0\n"
          ]
        },
        {
          "output_type": "stream",
          "name": "stderr",
          "text": [
            " 94%|██████████████████████████████████████████████▏  | 283024/300001 [56:26<21:13, 13.33it/s]"
          ]
        },
        {
          "output_type": "stream",
          "name": "stdout",
          "text": [
            "Average agent reward:  660.0\n"
          ]
        },
        {
          "output_type": "stream",
          "name": "stderr",
          "text": [
            " 95%|██████████████████████████████████████████████▍  | 284021/300001 [56:39<22:01, 12.09it/s]"
          ]
        },
        {
          "output_type": "stream",
          "name": "stdout",
          "text": [
            "Average agent reward:  690.0\n"
          ]
        },
        {
          "output_type": "stream",
          "name": "stderr",
          "text": [
            " 95%|██████████████████████████████████████████████▌  | 285027/300001 [56:50<18:34, 13.43it/s]"
          ]
        },
        {
          "output_type": "stream",
          "name": "stdout",
          "text": [
            "Average agent reward:  520.0\n"
          ]
        },
        {
          "output_type": "stream",
          "name": "stderr",
          "text": [
            " 95%|██████████████████████████████████████████████▋  | 286013/300001 [57:02<19:24, 12.01it/s]"
          ]
        },
        {
          "output_type": "stream",
          "name": "stdout",
          "text": [
            "Average agent reward:  430.0\n"
          ]
        },
        {
          "output_type": "stream",
          "name": "stderr",
          "text": [
            " 96%|██████████████████████████████████████████████▉  | 287027/300001 [57:15<17:25, 12.41it/s]"
          ]
        },
        {
          "output_type": "stream",
          "name": "stdout",
          "text": [
            "Average agent reward:  630.0\n"
          ]
        },
        {
          "output_type": "stream",
          "name": "stderr",
          "text": [
            " 96%|███████████████████████████████████████████████  | 288018/300001 [57:27<18:13, 10.96it/s]"
          ]
        },
        {
          "output_type": "stream",
          "name": "stdout",
          "text": [
            "Average agent reward:  790.0\n"
          ]
        },
        {
          "output_type": "stream",
          "name": "stderr",
          "text": [
            " 96%|███████████████████████████████████████████████▏ | 289029/300001 [57:39<14:11, 12.89it/s]"
          ]
        },
        {
          "output_type": "stream",
          "name": "stdout",
          "text": [
            "Average agent reward:  590.0\n"
          ]
        },
        {
          "output_type": "stream",
          "name": "stderr",
          "text": [
            " 97%|███████████████████████████████████████████████▎ | 290015/300001 [57:53<24:37,  6.76it/s]"
          ]
        },
        {
          "output_type": "stream",
          "name": "stdout",
          "text": [
            "Average agent reward:  890.0\n"
          ]
        },
        {
          "output_type": "stream",
          "name": "stderr",
          "text": [
            " 97%|███████████████████████████████████████████████▌ | 291022/300001 [58:06<11:21, 13.18it/s]"
          ]
        },
        {
          "output_type": "stream",
          "name": "stdout",
          "text": [
            "Average agent reward:  870.0\n"
          ]
        },
        {
          "output_type": "stream",
          "name": "stderr",
          "text": [
            " 97%|███████████████████████████████████████████████▋ | 292022/300001 [58:18<09:31, 13.96it/s]"
          ]
        },
        {
          "output_type": "stream",
          "name": "stdout",
          "text": [
            "Average agent reward:  300.0\n"
          ]
        },
        {
          "output_type": "stream",
          "name": "stderr",
          "text": [
            " 98%|███████████████████████████████████████████████▊ | 293018/300001 [58:30<08:29, 13.70it/s]"
          ]
        },
        {
          "output_type": "stream",
          "name": "stdout",
          "text": [
            "Average agent reward:  500.0\n"
          ]
        },
        {
          "output_type": "stream",
          "name": "stderr",
          "text": [
            " 98%|████████████████████████████████████████████████ | 294018/300001 [58:42<08:26, 11.81it/s]"
          ]
        },
        {
          "output_type": "stream",
          "name": "stdout",
          "text": [
            "Average agent reward:  780.0\n"
          ]
        },
        {
          "output_type": "stream",
          "name": "stderr",
          "text": [
            " 98%|████████████████████████████████████████████████▏| 295023/300001 [58:54<06:28, 12.82it/s]"
          ]
        },
        {
          "output_type": "stream",
          "name": "stdout",
          "text": [
            "Average agent reward:  700.0\n"
          ]
        },
        {
          "output_type": "stream",
          "name": "stderr",
          "text": [
            " 99%|████████████████████████████████████████████████▎| 296023/300001 [59:07<05:28, 12.12it/s]"
          ]
        },
        {
          "output_type": "stream",
          "name": "stdout",
          "text": [
            "Average agent reward:  660.0\n"
          ]
        },
        {
          "output_type": "stream",
          "name": "stderr",
          "text": [
            " 99%|████████████████████████████████████████████████▌| 297027/300001 [59:20<04:38, 10.67it/s]"
          ]
        },
        {
          "output_type": "stream",
          "name": "stdout",
          "text": [
            "Average agent reward:  1020.0\n"
          ]
        },
        {
          "output_type": "stream",
          "name": "stderr",
          "text": [
            " 99%|████████████████████████████████████████████████▋| 298017/300001 [59:32<02:43, 12.10it/s]"
          ]
        },
        {
          "output_type": "stream",
          "name": "stdout",
          "text": [
            "Average agent reward:  350.0\n"
          ]
        },
        {
          "output_type": "stream",
          "name": "stderr",
          "text": [
            "100%|████████████████████████████████████████████████▊| 299029/300001 [59:45<01:20, 12.10it/s]"
          ]
        },
        {
          "output_type": "stream",
          "name": "stdout",
          "text": [
            "Average agent reward:  710.0\n"
          ]
        },
        {
          "output_type": "stream",
          "name": "stderr",
          "text": [
            "100%|█████████████████████████████████████████████████| 300001/300001 [59:57<00:00, 83.39it/s]"
          ]
        },
        {
          "output_type": "stream",
          "name": "stdout",
          "text": [
            "Average agent reward:  610.0\n"
          ]
        },
        {
          "output_type": "stream",
          "name": "stderr",
          "text": [
            "\n"
          ]
        }
      ]
    },
    {
      "cell_type": "markdown",
      "source": [
        "## Part 3 - Visualizing the results"
      ],
      "metadata": {
        "id": "7kG_YR9YdmUM"
      }
    },
    {
      "cell_type": "code",
      "source": [
        "import glob\n",
        "import io\n",
        "import base64\n",
        "import imageio\n",
        "from IPython.display import HTML, display\n",
        "\n",
        "def show_video_of_model(agent, env):\n",
        "  state, _ = env.reset()\n",
        "  done = False\n",
        "  frames = []\n",
        "  while not done:\n",
        "    frame = env.render()\n",
        "    frames.append(frame)\n",
        "    action = agent.act(state)\n",
        "    state, reward, done, _, _ = env.step(action[0])\n",
        "  env.close()\n",
        "  imageio.mimsave('video.mp4', frames, fps=30)\n",
        "\n",
        "show_video_of_model(agent, env)\n",
        "\n",
        "def show_video():\n",
        "    mp4list = glob.glob('*.mp4')\n",
        "    if len(mp4list) > 0:\n",
        "        mp4 = mp4list[0]\n",
        "        video = io.open(mp4, 'r+b').read()\n",
        "        encoded = base64.b64encode(video)\n",
        "        display(HTML(data='''<video alt=\"test\" autoplay\n",
        "                loop controls style=\"height: 400px;\">\n",
        "                <source src=\"data:video/mp4;base64,{0}\" type=\"video/mp4\" />\n",
        "             </video>'''.format(encoded.decode('ascii'))))\n",
        "    else:\n",
        "        print(\"Could not find video\")\n",
        "\n",
        "show_video()"
      ],
      "metadata": {
        "id": "UGkTuO6DxZ6B",
        "outputId": "426da51b-5309-4536-d571-52783e93feab",
        "colab": {
          "base_uri": "https://localhost:8080/",
          "height": 459
        }
      },
      "execution_count": 23,
      "outputs": [
        {
          "output_type": "stream",
          "name": "stderr",
          "text": [
            "IMAGEIO FFMPEG_WRITER WARNING: input image is not divisible by macro_block_size=16, resizing from (160, 210) to (160, 224) to ensure video compatibility with most codecs and players. To prevent resizing, make your input image divisible by the macro_block_size or set the macro_block_size to 1 (risking incompatibility).\n"
          ]
        },
        {
          "output_type": "display_data",
          "data": {
            "text/plain": [
              "<IPython.core.display.HTML object>"
            ],
            "text/html": [
              "<video alt=\"test\" autoplay\n",
              "                loop controls style=\"height: 400px;\">\n",
              "                <source src=\"data:video/mp4;base64,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\" type=\"video/mp4\" />\n",
              "             </video>"
            ]
          },
          "metadata": {}
        }
      ]
    }
  ],
  "metadata": {
    "colab": {
      "provenance": [],
      "gpuType": "T4",
      "include_colab_link": true
    },
    "kernelspec": {
      "display_name": "Python 3",
      "name": "python3"
    },
    "language_info": {
      "name": "python"
    },
    "accelerator": "GPU"
  },
  "nbformat": 4,
  "nbformat_minor": 0
}